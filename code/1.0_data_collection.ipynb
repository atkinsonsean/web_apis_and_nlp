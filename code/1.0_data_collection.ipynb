{
 "cells": [
  {
   "cell_type": "markdown",
   "id": "7510055f",
   "metadata": {},
   "source": [
    "# PART 1: DATA COLLECTION "
   ]
  },
  {
   "cell_type": "markdown",
   "id": "e19192d4",
   "metadata": {},
   "source": [
    "# LIBRARIES AND IMPORTS"
   ]
  },
  {
   "cell_type": "code",
   "execution_count": 80,
   "id": "db481e85",
   "metadata": {},
   "outputs": [],
   "source": [
    "import re\n",
    "import requests\n",
    "import time\n",
    "import pandas as pd\n",
    "from random import randint"
   ]
  },
  {
   "cell_type": "markdown",
   "id": "2a55ba88",
   "metadata": {},
   "source": [
    "# TABLE OF CONTENTS\n",
    "<a id='table_of_contents'></a><br>\n",
    "[Section 1: Reddit Submissions Collection](#section_1)<br>\n",
    "[Section 2: Reddit Comments Collection](#section_2)<br>"
   ]
  },
  {
   "cell_type": "markdown",
   "id": "270043e1",
   "metadata": {},
   "source": [
    "<a id='section_1'></a>\n",
    "# SECTION 1: REDDIT SUBMISSION COLLECTION\n",
    "[(Back to table of contents)](#table_of_contents)<br>"
   ]
  },
  {
   "cell_type": "markdown",
   "id": "542968bf",
   "metadata": {},
   "source": [
    "# MAKE SURE TO ADD YOUR CODING COMMENTS"
   ]
  },
  {
   "cell_type": "markdown",
   "id": "15b6d284",
   "metadata": {},
   "source": [
    "# 1.1 Liverpool FC Submission Collection"
   ]
  },
  {
   "cell_type": "code",
   "execution_count": 81,
   "id": "6deecb2b",
   "metadata": {},
   "outputs": [
    {
     "name": "stdout",
     "output_type": "stream",
     "text": [
      "25 successful requests.\n",
      "50 successful requests.\n",
      "75 successful requests.\n",
      "100 successful requests.\n",
      "125 successful requests.\n",
      "150 successful requests.\n",
      "175 successful requests.\n",
      "200 successful requests.\n",
      "225 successful requests.\n",
      "250 successful requests.\n",
      "275 successful requests.\n"
     ]
    }
   ],
   "source": [
    "base_url = 'https://api.pushshift.io/reddit/submission/search'\n",
    "df = []\n",
    "loops = 300\n",
    "subreddit = 'LiverpoolFC'\n",
    "start_time = time.time()\n",
    "params = {\n",
    "    'subreddit' : 'LiverpoolFC',\n",
    "    'size': 100,\n",
    "    'before': round(start_time) \n",
    "}\n",
    "\n",
    "for i in range(loops):\n",
    "    current_time = time.time()\n",
    "    #requesting data\n",
    "    res = requests.get(base_url, params)\n",
    "    if res.status_code != 200:\n",
    "        print(res.status_code)\n",
    "    if (i + 1) % 25 == 0:\n",
    "        print(f'{i + 1} successful requests.')\n",
    "    data = res.json()\n",
    "    submissions = data['data']\n",
    "    submissions_df = pd.DataFrame(submissions)\n",
    "    df.append(submissions_df)\n",
    "    #get oldest submissions time and use as before parameter in next request\n",
    "    oldest = submissions_df['created_utc'].min()\n",
    "    params['before'] = oldest\n",
    "    time.sleep(randint(1,6))\n",
    "reddit_submissions_lfc = pd.concat(df)\n",
    "\n",
    "filename = 'lfc_submissions.csv'\n",
    "reddit_submissions_lfc.to_csv('./data/' + filename, index=False)"
   ]
  },
  {
   "cell_type": "code",
   "execution_count": 82,
   "id": "ae1d0eba",
   "metadata": {},
   "outputs": [
    {
     "data": {
      "text/plain": [
       "(29989, 87)"
      ]
     },
     "execution_count": 82,
     "metadata": {},
     "output_type": "execute_result"
    }
   ],
   "source": [
    "reddit_submissions_lfc.shape"
   ]
  },
  {
   "cell_type": "code",
   "execution_count": 83,
   "id": "125327ce",
   "metadata": {},
   "outputs": [
    {
     "data": {
      "text/html": [
       "<div>\n",
       "<style scoped>\n",
       "    .dataframe tbody tr th:only-of-type {\n",
       "        vertical-align: middle;\n",
       "    }\n",
       "\n",
       "    .dataframe tbody tr th {\n",
       "        vertical-align: top;\n",
       "    }\n",
       "\n",
       "    .dataframe thead th {\n",
       "        text-align: right;\n",
       "    }\n",
       "</style>\n",
       "<table border=\"1\" class=\"dataframe\">\n",
       "  <thead>\n",
       "    <tr style=\"text-align: right;\">\n",
       "      <th></th>\n",
       "      <th>all_awardings</th>\n",
       "      <th>allow_live_comments</th>\n",
       "      <th>author</th>\n",
       "      <th>author_flair_css_class</th>\n",
       "      <th>author_flair_richtext</th>\n",
       "      <th>author_flair_template_id</th>\n",
       "      <th>author_flair_text</th>\n",
       "      <th>author_flair_text_color</th>\n",
       "      <th>author_flair_type</th>\n",
       "      <th>author_fullname</th>\n",
       "      <th>...</th>\n",
       "      <th>author_cakeday</th>\n",
       "      <th>link_flair_template_id</th>\n",
       "      <th>suggested_sort</th>\n",
       "      <th>distinguished</th>\n",
       "      <th>banned_by</th>\n",
       "      <th>edited</th>\n",
       "      <th>gilded</th>\n",
       "      <th>event_end</th>\n",
       "      <th>event_is_live</th>\n",
       "      <th>event_start</th>\n",
       "    </tr>\n",
       "  </thead>\n",
       "  <tbody>\n",
       "    <tr>\n",
       "      <th>0</th>\n",
       "      <td>[]</td>\n",
       "      <td>False</td>\n",
       "      <td>TheKZOShow</td>\n",
       "      <td>Othr-cl5-b</td>\n",
       "      <td>[]</td>\n",
       "      <td>e84013be-3f23-11e7-b0e9-0efd609c04ec</td>\n",
       "      <td>None</td>\n",
       "      <td>dark</td>\n",
       "      <td>text</td>\n",
       "      <td>t2_prl9z</td>\n",
       "      <td>...</td>\n",
       "      <td>NaN</td>\n",
       "      <td>NaN</td>\n",
       "      <td>NaN</td>\n",
       "      <td>NaN</td>\n",
       "      <td>NaN</td>\n",
       "      <td>NaN</td>\n",
       "      <td>NaN</td>\n",
       "      <td>NaN</td>\n",
       "      <td>NaN</td>\n",
       "      <td>NaN</td>\n",
       "    </tr>\n",
       "    <tr>\n",
       "      <th>1</th>\n",
       "      <td>[]</td>\n",
       "      <td>False</td>\n",
       "      <td>SecretCrocodiles</td>\n",
       "      <td>None</td>\n",
       "      <td>[]</td>\n",
       "      <td>NaN</td>\n",
       "      <td>None</td>\n",
       "      <td>NaN</td>\n",
       "      <td>text</td>\n",
       "      <td>t2_64kqxpvl</td>\n",
       "      <td>...</td>\n",
       "      <td>NaN</td>\n",
       "      <td>NaN</td>\n",
       "      <td>NaN</td>\n",
       "      <td>NaN</td>\n",
       "      <td>NaN</td>\n",
       "      <td>NaN</td>\n",
       "      <td>NaN</td>\n",
       "      <td>NaN</td>\n",
       "      <td>NaN</td>\n",
       "      <td>NaN</td>\n",
       "    </tr>\n",
       "    <tr>\n",
       "      <th>2</th>\n",
       "      <td>[]</td>\n",
       "      <td>False</td>\n",
       "      <td>SecretCrocodiles</td>\n",
       "      <td>None</td>\n",
       "      <td>[]</td>\n",
       "      <td>NaN</td>\n",
       "      <td>None</td>\n",
       "      <td>NaN</td>\n",
       "      <td>text</td>\n",
       "      <td>t2_64kqxpvl</td>\n",
       "      <td>...</td>\n",
       "      <td>NaN</td>\n",
       "      <td>NaN</td>\n",
       "      <td>NaN</td>\n",
       "      <td>NaN</td>\n",
       "      <td>NaN</td>\n",
       "      <td>NaN</td>\n",
       "      <td>NaN</td>\n",
       "      <td>NaN</td>\n",
       "      <td>NaN</td>\n",
       "      <td>NaN</td>\n",
       "    </tr>\n",
       "  </tbody>\n",
       "</table>\n",
       "<p>3 rows × 87 columns</p>\n",
       "</div>"
      ],
      "text/plain": [
       "  all_awardings  allow_live_comments            author author_flair_css_class  \\\n",
       "0            []                False        TheKZOShow             Othr-cl5-b   \n",
       "1            []                False  SecretCrocodiles                   None   \n",
       "2            []                False  SecretCrocodiles                   None   \n",
       "\n",
       "  author_flair_richtext              author_flair_template_id  \\\n",
       "0                    []  e84013be-3f23-11e7-b0e9-0efd609c04ec   \n",
       "1                    []                                   NaN   \n",
       "2                    []                                   NaN   \n",
       "\n",
       "  author_flair_text author_flair_text_color author_flair_type author_fullname  \\\n",
       "0              None                    dark              text        t2_prl9z   \n",
       "1              None                     NaN              text     t2_64kqxpvl   \n",
       "2              None                     NaN              text     t2_64kqxpvl   \n",
       "\n",
       "   ... author_cakeday link_flair_template_id suggested_sort distinguished  \\\n",
       "0  ...            NaN                    NaN            NaN           NaN   \n",
       "1  ...            NaN                    NaN            NaN           NaN   \n",
       "2  ...            NaN                    NaN            NaN           NaN   \n",
       "\n",
       "   banned_by  edited  gilded event_end event_is_live event_start  \n",
       "0        NaN     NaN     NaN       NaN           NaN         NaN  \n",
       "1        NaN     NaN     NaN       NaN           NaN         NaN  \n",
       "2        NaN     NaN     NaN       NaN           NaN         NaN  \n",
       "\n",
       "[3 rows x 87 columns]"
      ]
     },
     "execution_count": 83,
     "metadata": {},
     "output_type": "execute_result"
    }
   ],
   "source": [
    "reddit_submissions_lfc.head(3)"
   ]
  },
  {
   "cell_type": "markdown",
   "id": "55176b9d",
   "metadata": {},
   "source": [
    "<br>"
   ]
  },
  {
   "cell_type": "markdown",
   "id": "57e61975",
   "metadata": {},
   "source": [
    "# 1.2 Everton FC Submission Collection"
   ]
  },
  {
   "cell_type": "code",
   "execution_count": 84,
   "id": "0f196664",
   "metadata": {},
   "outputs": [
    {
     "name": "stdout",
     "output_type": "stream",
     "text": [
      "25 successful requests.\n",
      "50 successful requests.\n",
      "75 successful requests.\n",
      "100 successful requests.\n",
      "125 successful requests.\n",
      "150 successful requests.\n",
      "175 successful requests.\n",
      "200 successful requests.\n",
      "225 successful requests.\n",
      "250 successful requests.\n",
      "275 successful requests.\n"
     ]
    }
   ],
   "source": [
    "base_url = 'https://api.pushshift.io/reddit/submission/search'\n",
    "df = []\n",
    "loops = 300\n",
    "subreddit = 'Everton'\n",
    "start_time = time.time()\n",
    "params = {\n",
    "    'subreddit' : 'Everton',\n",
    "    'size': 100,\n",
    "    'before': round(start_time) \n",
    "}\n",
    "\n",
    "for i in range(loops):\n",
    "    current_time = time.time()\n",
    "    #requesting data\n",
    "    res = requests.get(base_url, params)\n",
    "    if res.status_code != 200:\n",
    "        print(res.status_code)\n",
    "    if (i + 1) % 25 == 0:\n",
    "        print(f'{i + 1} successful requests.')\n",
    "    data = res.json()\n",
    "    submissions = data['data']\n",
    "    submissions_df = pd.DataFrame(submissions)\n",
    "    df.append(submissions_df)\n",
    "    #get oldest submissions time and use as before parameter in next request\n",
    "    oldest = submissions_df['created_utc'].min()\n",
    "    params['before'] = oldest\n",
    "    time.sleep(randint(1,6))\n",
    "reddit_submissions_eve = pd.concat(df)\n",
    "\n",
    "filename = 'everton_submissions.csv'\n",
    "reddit_submissions_eve.to_csv('./data/' + filename, index=False)"
   ]
  },
  {
   "cell_type": "code",
   "execution_count": 85,
   "id": "15ea9c0d",
   "metadata": {},
   "outputs": [
    {
     "data": {
      "text/plain": [
       "(29953, 100)"
      ]
     },
     "execution_count": 85,
     "metadata": {},
     "output_type": "execute_result"
    }
   ],
   "source": [
    "reddit_submissions_eve.shape"
   ]
  },
  {
   "cell_type": "code",
   "execution_count": 87,
   "id": "9d953c7c",
   "metadata": {},
   "outputs": [
    {
     "data": {
      "text/html": [
       "<div>\n",
       "<style scoped>\n",
       "    .dataframe tbody tr th:only-of-type {\n",
       "        vertical-align: middle;\n",
       "    }\n",
       "\n",
       "    .dataframe tbody tr th {\n",
       "        vertical-align: top;\n",
       "    }\n",
       "\n",
       "    .dataframe thead th {\n",
       "        text-align: right;\n",
       "    }\n",
       "</style>\n",
       "<table border=\"1\" class=\"dataframe\">\n",
       "  <thead>\n",
       "    <tr style=\"text-align: right;\">\n",
       "      <th></th>\n",
       "      <th>subreddit</th>\n",
       "      <th>selftext</th>\n",
       "      <th>title</th>\n",
       "    </tr>\n",
       "  </thead>\n",
       "  <tbody>\n",
       "    <tr>\n",
       "      <th>0</th>\n",
       "      <td>LiverpoolFC</td>\n",
       "      <td></td>\n",
       "      <td>Looked up Luis Díaz's stats and Wiki..... Look...</td>\n",
       "    </tr>\n",
       "    <tr>\n",
       "      <th>1</th>\n",
       "      <td>LiverpoolFC</td>\n",
       "      <td>[removed]</td>\n",
       "      <td>Why No Support for Our Boys in Afcon? :(</td>\n",
       "    </tr>\n",
       "    <tr>\n",
       "      <th>2</th>\n",
       "      <td>LiverpoolFC</td>\n",
       "      <td>[removed]</td>\n",
       "      <td>Why No Support for Our Boys in Afcon? :(</td>\n",
       "    </tr>\n",
       "  </tbody>\n",
       "</table>\n",
       "</div>"
      ],
      "text/plain": [
       "     subreddit   selftext                                              title\n",
       "0  LiverpoolFC             Looked up Luis Díaz's stats and Wiki..... Look...\n",
       "1  LiverpoolFC  [removed]           Why No Support for Our Boys in Afcon? :(\n",
       "2  LiverpoolFC  [removed]           Why No Support for Our Boys in Afcon? :("
      ]
     },
     "execution_count": 87,
     "metadata": {},
     "output_type": "execute_result"
    }
   ],
   "source": [
    "lfc_submissions = reddit_submissions_lfc[['subreddit', 'selftext', 'title']]\n",
    "lfc_submissions.head(3)"
   ]
  },
  {
   "cell_type": "code",
   "execution_count": 99,
   "id": "c80160ee",
   "metadata": {},
   "outputs": [
    {
     "data": {
      "text/html": [
       "<div>\n",
       "<style scoped>\n",
       "    .dataframe tbody tr th:only-of-type {\n",
       "        vertical-align: middle;\n",
       "    }\n",
       "\n",
       "    .dataframe tbody tr th {\n",
       "        vertical-align: top;\n",
       "    }\n",
       "\n",
       "    .dataframe thead th {\n",
       "        text-align: right;\n",
       "    }\n",
       "</style>\n",
       "<table border=\"1\" class=\"dataframe\">\n",
       "  <thead>\n",
       "    <tr style=\"text-align: right;\">\n",
       "      <th></th>\n",
       "      <th>subreddit</th>\n",
       "      <th>selftext</th>\n",
       "      <th>title</th>\n",
       "    </tr>\n",
       "  </thead>\n",
       "  <tbody>\n",
       "    <tr>\n",
       "      <th>97</th>\n",
       "      <td>Everton</td>\n",
       "      <td></td>\n",
       "      <td>I loved the picture from that Guardian article...</td>\n",
       "    </tr>\n",
       "    <tr>\n",
       "      <th>98</th>\n",
       "      <td>Everton</td>\n",
       "      <td></td>\n",
       "      <td>Blues Brothers: Phil Jagielka v Leighton Baines</td>\n",
       "    </tr>\n",
       "    <tr>\n",
       "      <th>99</th>\n",
       "      <td>Everton</td>\n",
       "      <td></td>\n",
       "      <td>Everton to reward defender Brendan Galloway wi...</td>\n",
       "    </tr>\n",
       "  </tbody>\n",
       "</table>\n",
       "</div>"
      ],
      "text/plain": [
       "   subreddit selftext                                              title\n",
       "97   Everton           I loved the picture from that Guardian article...\n",
       "98   Everton             Blues Brothers: Phil Jagielka v Leighton Baines\n",
       "99   Everton           Everton to reward defender Brendan Galloway wi..."
      ]
     },
     "execution_count": 99,
     "metadata": {},
     "output_type": "execute_result"
    }
   ],
   "source": [
    "everton_submissions = reddit_submissions_eve[['subreddit', 'selftext', 'title']]\n",
    "everton_submissions.tail(3)"
   ]
  },
  {
   "cell_type": "code",
   "execution_count": 96,
   "id": "1da2d8ee",
   "metadata": {},
   "outputs": [],
   "source": [
    "total_submissions = pd.concat([lfc_submissions, everton_submissions], ignore_index=True)"
   ]
  },
  {
   "cell_type": "code",
   "execution_count": 97,
   "id": "fa86cd18",
   "metadata": {},
   "outputs": [
    {
     "data": {
      "text/plain": [
       "(59942, 3)"
      ]
     },
     "execution_count": 97,
     "metadata": {},
     "output_type": "execute_result"
    }
   ],
   "source": [
    "total_submissions.shape"
   ]
  },
  {
   "cell_type": "code",
   "execution_count": 98,
   "id": "650e5bef",
   "metadata": {},
   "outputs": [
    {
     "data": {
      "text/html": [
       "<div>\n",
       "<style scoped>\n",
       "    .dataframe tbody tr th:only-of-type {\n",
       "        vertical-align: middle;\n",
       "    }\n",
       "\n",
       "    .dataframe tbody tr th {\n",
       "        vertical-align: top;\n",
       "    }\n",
       "\n",
       "    .dataframe thead th {\n",
       "        text-align: right;\n",
       "    }\n",
       "</style>\n",
       "<table border=\"1\" class=\"dataframe\">\n",
       "  <thead>\n",
       "    <tr style=\"text-align: right;\">\n",
       "      <th></th>\n",
       "      <th>subreddit</th>\n",
       "      <th>selftext</th>\n",
       "      <th>title</th>\n",
       "    </tr>\n",
       "  </thead>\n",
       "  <tbody>\n",
       "    <tr>\n",
       "      <th>59937</th>\n",
       "      <td>Everton</td>\n",
       "      <td></td>\n",
       "      <td>Everton Boosted as Inter Reportedly Look to Se...</td>\n",
       "    </tr>\n",
       "    <tr>\n",
       "      <th>59938</th>\n",
       "      <td>Everton</td>\n",
       "      <td>I have a feeling this is going to illicit a fe...</td>\n",
       "      <td>Everton-Chelsea rating results</td>\n",
       "    </tr>\n",
       "    <tr>\n",
       "      <th>59939</th>\n",
       "      <td>Everton</td>\n",
       "      <td></td>\n",
       "      <td>I loved the picture from that Guardian article...</td>\n",
       "    </tr>\n",
       "    <tr>\n",
       "      <th>59940</th>\n",
       "      <td>Everton</td>\n",
       "      <td></td>\n",
       "      <td>Blues Brothers: Phil Jagielka v Leighton Baines</td>\n",
       "    </tr>\n",
       "    <tr>\n",
       "      <th>59941</th>\n",
       "      <td>Everton</td>\n",
       "      <td></td>\n",
       "      <td>Everton to reward defender Brendan Galloway wi...</td>\n",
       "    </tr>\n",
       "  </tbody>\n",
       "</table>\n",
       "</div>"
      ],
      "text/plain": [
       "      subreddit                                           selftext  \\\n",
       "59937   Everton                                                      \n",
       "59938   Everton  I have a feeling this is going to illicit a fe...   \n",
       "59939   Everton                                                      \n",
       "59940   Everton                                                      \n",
       "59941   Everton                                                      \n",
       "\n",
       "                                                   title  \n",
       "59937  Everton Boosted as Inter Reportedly Look to Se...  \n",
       "59938                     Everton-Chelsea rating results  \n",
       "59939  I loved the picture from that Guardian article...  \n",
       "59940    Blues Brothers: Phil Jagielka v Leighton Baines  \n",
       "59941  Everton to reward defender Brendan Galloway wi...  "
      ]
     },
     "execution_count": 98,
     "metadata": {},
     "output_type": "execute_result"
    }
   ],
   "source": [
    "total_submissions.tail(5)"
   ]
  },
  {
   "cell_type": "code",
   "execution_count": 90,
   "id": "6607fc67",
   "metadata": {},
   "outputs": [],
   "source": [
    "total_submissions.to_csv('data/total_submissions.csv')"
   ]
  },
  {
   "cell_type": "markdown",
   "id": "384e95ed",
   "metadata": {},
   "source": [
    "<br>"
   ]
  },
  {
   "cell_type": "markdown",
   "id": "153fc7a0",
   "metadata": {},
   "source": [
    "<a id='section_2'></a>\n",
    "# SECTION 2: REDDIT COMMENT COLLECTION\n",
    "[(Back to table of contents)](#table_of_contents)<br>"
   ]
  },
  {
   "cell_type": "markdown",
   "id": "11866a7e",
   "metadata": {},
   "source": [
    "# MAKE SURE TO ADD YOUR CODING COMMENTS"
   ]
  },
  {
   "cell_type": "markdown",
   "id": "fea455da",
   "metadata": {},
   "source": [
    "# 2.1 Liverpool FC Comment Collection"
   ]
  },
  {
   "cell_type": "code",
   "execution_count": 58,
   "id": "43d5697a",
   "metadata": {},
   "outputs": [
    {
     "name": "stdout",
     "output_type": "stream",
     "text": [
      "25 successful requests.\n",
      "50 successful requests.\n",
      "75 successful requests.\n",
      "100 successful requests.\n",
      "125 successful requests.\n",
      "150 successful requests.\n",
      "175 successful requests.\n",
      "200 successful requests.\n",
      "225 successful requests.\n",
      "250 successful requests.\n",
      "275 successful requests.\n",
      "300 successful requests.\n",
      "325 successful requests.\n",
      "350 successful requests.\n",
      "375 successful requests.\n",
      "400 successful requests.\n",
      "425 successful requests.\n",
      "450 successful requests.\n",
      "475 successful requests.\n"
     ]
    }
   ],
   "source": [
    "base_url = 'https://api.pushshift.io/reddit/comment/search'\n",
    "df = []\n",
    "loops = 500\n",
    "subreddit = 'LiverpoolFC'\n",
    "start_time = time.time()\n",
    "params = {\n",
    "    'subreddit' : 'LiverpoolFC',\n",
    "    'size': 100,\n",
    "    'before': round(start_time) \n",
    "}\n",
    "\n",
    "for i in range(loops):\n",
    "    current_time = time.time()\n",
    "    #requesting data\n",
    "    res = requests.get(base_url, params)\n",
    "    if res.status_code != 200:\n",
    "        print(res.status_code)\n",
    "    if (i + 1) % 25 == 0:\n",
    "        print(f'{i + 1} successful requests.')\n",
    "    data = res.json()\n",
    "    comments = data['data']\n",
    "    comments_df = pd.DataFrame(comments)\n",
    "    df.append(comments_df)\n",
    "    #get oldest comments time and use as before parameter in next request\n",
    "    oldest = comments_df['created_utc'].min()\n",
    "    params['before'] = oldest\n",
    "    time.sleep(randint(1,6))\n",
    "reddit_comments_lfc = pd.concat(df)\n",
    "\n",
    "filename = 'lfc_comments.csv'\n",
    "reddit_comments_lfc.to_csv('./data/' + filename, index=False)"
   ]
  },
  {
   "cell_type": "code",
   "execution_count": 59,
   "id": "a3f2822a",
   "metadata": {},
   "outputs": [
    {
     "data": {
      "text/plain": [
       "(49993, 49)"
      ]
     },
     "execution_count": 59,
     "metadata": {},
     "output_type": "execute_result"
    }
   ],
   "source": [
    "reddit_comments_lfc.shape"
   ]
  },
  {
   "cell_type": "code",
   "execution_count": 60,
   "id": "c06e4d49",
   "metadata": {},
   "outputs": [
    {
     "data": {
      "text/html": [
       "<div>\n",
       "<style scoped>\n",
       "    .dataframe tbody tr th:only-of-type {\n",
       "        vertical-align: middle;\n",
       "    }\n",
       "\n",
       "    .dataframe tbody tr th {\n",
       "        vertical-align: top;\n",
       "    }\n",
       "\n",
       "    .dataframe thead th {\n",
       "        text-align: right;\n",
       "    }\n",
       "</style>\n",
       "<table border=\"1\" class=\"dataframe\">\n",
       "  <thead>\n",
       "    <tr style=\"text-align: right;\">\n",
       "      <th></th>\n",
       "      <th>all_awardings</th>\n",
       "      <th>archived</th>\n",
       "      <th>associated_award</th>\n",
       "      <th>author</th>\n",
       "      <th>author_flair_background_color</th>\n",
       "      <th>author_flair_css_class</th>\n",
       "      <th>author_flair_richtext</th>\n",
       "      <th>author_flair_template_id</th>\n",
       "      <th>author_flair_text</th>\n",
       "      <th>author_flair_text_color</th>\n",
       "      <th>...</th>\n",
       "      <th>subreddit</th>\n",
       "      <th>subreddit_id</th>\n",
       "      <th>subreddit_name_prefixed</th>\n",
       "      <th>subreddit_type</th>\n",
       "      <th>top_awarded_type</th>\n",
       "      <th>total_awards_received</th>\n",
       "      <th>treatment_tags</th>\n",
       "      <th>unrepliable_reason</th>\n",
       "      <th>author_cakeday</th>\n",
       "      <th>media_metadata</th>\n",
       "    </tr>\n",
       "  </thead>\n",
       "  <tbody>\n",
       "    <tr>\n",
       "      <th>0</th>\n",
       "      <td>[]</td>\n",
       "      <td>False</td>\n",
       "      <td>None</td>\n",
       "      <td>PricelessPhenylamine</td>\n",
       "      <td>None</td>\n",
       "      <td>None</td>\n",
       "      <td>[]</td>\n",
       "      <td>None</td>\n",
       "      <td>None</td>\n",
       "      <td>None</td>\n",
       "      <td>...</td>\n",
       "      <td>LiverpoolFC</td>\n",
       "      <td>t5_2qn0o</td>\n",
       "      <td>r/LiverpoolFC</td>\n",
       "      <td>public</td>\n",
       "      <td>None</td>\n",
       "      <td>0</td>\n",
       "      <td>[]</td>\n",
       "      <td>None</td>\n",
       "      <td>NaN</td>\n",
       "      <td>NaN</td>\n",
       "    </tr>\n",
       "    <tr>\n",
       "      <th>1</th>\n",
       "      <td>[]</td>\n",
       "      <td>False</td>\n",
       "      <td>None</td>\n",
       "      <td>[deleted]</td>\n",
       "      <td></td>\n",
       "      <td>None</td>\n",
       "      <td>NaN</td>\n",
       "      <td>None</td>\n",
       "      <td>None</td>\n",
       "      <td>dark</td>\n",
       "      <td>...</td>\n",
       "      <td>LiverpoolFC</td>\n",
       "      <td>t5_2qn0o</td>\n",
       "      <td>r/LiverpoolFC</td>\n",
       "      <td>public</td>\n",
       "      <td>None</td>\n",
       "      <td>0</td>\n",
       "      <td>[]</td>\n",
       "      <td>None</td>\n",
       "      <td>NaN</td>\n",
       "      <td>NaN</td>\n",
       "    </tr>\n",
       "    <tr>\n",
       "      <th>2</th>\n",
       "      <td>[]</td>\n",
       "      <td>False</td>\n",
       "      <td>None</td>\n",
       "      <td>killswitch1076</td>\n",
       "      <td>None</td>\n",
       "      <td>None</td>\n",
       "      <td>[]</td>\n",
       "      <td>None</td>\n",
       "      <td>None</td>\n",
       "      <td>None</td>\n",
       "      <td>...</td>\n",
       "      <td>LiverpoolFC</td>\n",
       "      <td>t5_2qn0o</td>\n",
       "      <td>r/LiverpoolFC</td>\n",
       "      <td>public</td>\n",
       "      <td>None</td>\n",
       "      <td>0</td>\n",
       "      <td>[]</td>\n",
       "      <td>None</td>\n",
       "      <td>NaN</td>\n",
       "      <td>NaN</td>\n",
       "    </tr>\n",
       "  </tbody>\n",
       "</table>\n",
       "<p>3 rows × 49 columns</p>\n",
       "</div>"
      ],
      "text/plain": [
       "  all_awardings  archived associated_award                author  \\\n",
       "0            []     False             None  PricelessPhenylamine   \n",
       "1            []     False             None             [deleted]   \n",
       "2            []     False             None        killswitch1076   \n",
       "\n",
       "  author_flair_background_color author_flair_css_class author_flair_richtext  \\\n",
       "0                          None                   None                    []   \n",
       "1                                                 None                   NaN   \n",
       "2                          None                   None                    []   \n",
       "\n",
       "  author_flair_template_id author_flair_text author_flair_text_color  ...  \\\n",
       "0                     None              None                    None  ...   \n",
       "1                     None              None                    dark  ...   \n",
       "2                     None              None                    None  ...   \n",
       "\n",
       "     subreddit subreddit_id subreddit_name_prefixed subreddit_type  \\\n",
       "0  LiverpoolFC     t5_2qn0o           r/LiverpoolFC         public   \n",
       "1  LiverpoolFC     t5_2qn0o           r/LiverpoolFC         public   \n",
       "2  LiverpoolFC     t5_2qn0o           r/LiverpoolFC         public   \n",
       "\n",
       "  top_awarded_type total_awards_received  treatment_tags  unrepliable_reason  \\\n",
       "0             None                     0              []                None   \n",
       "1             None                     0              []                None   \n",
       "2             None                     0              []                None   \n",
       "\n",
       "  author_cakeday media_metadata  \n",
       "0            NaN            NaN  \n",
       "1            NaN            NaN  \n",
       "2            NaN            NaN  \n",
       "\n",
       "[3 rows x 49 columns]"
      ]
     },
     "execution_count": 60,
     "metadata": {},
     "output_type": "execute_result"
    }
   ],
   "source": [
    "reddit_comments_lfc.head(3)"
   ]
  },
  {
   "cell_type": "markdown",
   "id": "583a33ed",
   "metadata": {},
   "source": [
    "<br>"
   ]
  },
  {
   "cell_type": "markdown",
   "id": "dd854825",
   "metadata": {},
   "source": [
    "# 2.2 Everton FC Comment Collection"
   ]
  },
  {
   "cell_type": "code",
   "execution_count": 64,
   "id": "a5ebaa36",
   "metadata": {},
   "outputs": [
    {
     "name": "stdout",
     "output_type": "stream",
     "text": [
      "25 successful requests.\n",
      "50 successful requests.\n",
      "75 successful requests.\n",
      "100 successful requests.\n",
      "125 successful requests.\n",
      "150 successful requests.\n",
      "175 successful requests.\n",
      "200 successful requests.\n",
      "225 successful requests.\n",
      "250 successful requests.\n",
      "275 successful requests.\n",
      "300 successful requests.\n",
      "325 successful requests.\n",
      "350 successful requests.\n",
      "375 successful requests.\n",
      "400 successful requests.\n",
      "425 successful requests.\n",
      "450 successful requests.\n",
      "475 successful requests.\n"
     ]
    }
   ],
   "source": [
    "base_url = 'https://api.pushshift.io/reddit/comment/search'\n",
    "df = []\n",
    "loops = 500\n",
    "subreddit = 'Everton'\n",
    "start_time = time.time()\n",
    "params = {\n",
    "    'subreddit' : 'Everton',\n",
    "    'size': 100,\n",
    "    'before': round(start_time) \n",
    "}\n",
    "\n",
    "for i in range(loops):\n",
    "    current_time = time.time()\n",
    "    #requesting data\n",
    "    res = requests.get(base_url, params)\n",
    "    if res.status_code != 200:\n",
    "        print(res.status_code)\n",
    "    if (i + 1) % 25 == 0:\n",
    "        print(f'{i + 1} successful requests.')\n",
    "    data = res.json()\n",
    "    comments = data['data']\n",
    "    comments_df = pd.DataFrame(comments)\n",
    "    df.append(comments_df)\n",
    "    #get oldest comments time and use as before parameter in next request\n",
    "    oldest = comments_df['created_utc'].min()\n",
    "    params['before'] = oldest\n",
    "    time.sleep(randint(1,6))\n",
    "reddit_comments_everton = pd.concat(df)\n",
    "\n",
    "filename = 'everton_comments.csv'\n",
    "reddit_comments_everton.to_csv('./data/' + filename, index=False)"
   ]
  },
  {
   "cell_type": "code",
   "execution_count": 66,
   "id": "48d8de2b",
   "metadata": {},
   "outputs": [
    {
     "data": {
      "text/plain": [
       "(49997, 51)"
      ]
     },
     "execution_count": 66,
     "metadata": {},
     "output_type": "execute_result"
    }
   ],
   "source": [
    "reddit_comments_everton.shape"
   ]
  },
  {
   "cell_type": "code",
   "execution_count": 67,
   "id": "b9b80e8a",
   "metadata": {
    "scrolled": true
   },
   "outputs": [
    {
     "data": {
      "text/html": [
       "<div>\n",
       "<style scoped>\n",
       "    .dataframe tbody tr th:only-of-type {\n",
       "        vertical-align: middle;\n",
       "    }\n",
       "\n",
       "    .dataframe tbody tr th {\n",
       "        vertical-align: top;\n",
       "    }\n",
       "\n",
       "    .dataframe thead th {\n",
       "        text-align: right;\n",
       "    }\n",
       "</style>\n",
       "<table border=\"1\" class=\"dataframe\">\n",
       "  <thead>\n",
       "    <tr style=\"text-align: right;\">\n",
       "      <th></th>\n",
       "      <th>all_awardings</th>\n",
       "      <th>archived</th>\n",
       "      <th>associated_award</th>\n",
       "      <th>author</th>\n",
       "      <th>author_flair_background_color</th>\n",
       "      <th>author_flair_css_class</th>\n",
       "      <th>author_flair_richtext</th>\n",
       "      <th>author_flair_template_id</th>\n",
       "      <th>author_flair_text</th>\n",
       "      <th>author_flair_text_color</th>\n",
       "      <th>...</th>\n",
       "      <th>subreddit_name_prefixed</th>\n",
       "      <th>subreddit_type</th>\n",
       "      <th>top_awarded_type</th>\n",
       "      <th>total_awards_received</th>\n",
       "      <th>treatment_tags</th>\n",
       "      <th>unrepliable_reason</th>\n",
       "      <th>author_cakeday</th>\n",
       "      <th>awarders</th>\n",
       "      <th>retrieved_on</th>\n",
       "      <th>edited</th>\n",
       "    </tr>\n",
       "  </thead>\n",
       "  <tbody>\n",
       "    <tr>\n",
       "      <th>0</th>\n",
       "      <td>[]</td>\n",
       "      <td>False</td>\n",
       "      <td>None</td>\n",
       "      <td>d_reisel</td>\n",
       "      <td>None</td>\n",
       "      <td>None</td>\n",
       "      <td>[]</td>\n",
       "      <td>None</td>\n",
       "      <td>None</td>\n",
       "      <td>None</td>\n",
       "      <td>...</td>\n",
       "      <td>r/Everton</td>\n",
       "      <td>public</td>\n",
       "      <td>None</td>\n",
       "      <td>0</td>\n",
       "      <td>[]</td>\n",
       "      <td>None</td>\n",
       "      <td>NaN</td>\n",
       "      <td>NaN</td>\n",
       "      <td>NaN</td>\n",
       "      <td>NaN</td>\n",
       "    </tr>\n",
       "    <tr>\n",
       "      <th>1</th>\n",
       "      <td>[]</td>\n",
       "      <td>False</td>\n",
       "      <td>None</td>\n",
       "      <td>abctof</td>\n",
       "      <td>None</td>\n",
       "      <td>None</td>\n",
       "      <td>[]</td>\n",
       "      <td>None</td>\n",
       "      <td>None</td>\n",
       "      <td>None</td>\n",
       "      <td>...</td>\n",
       "      <td>r/Everton</td>\n",
       "      <td>public</td>\n",
       "      <td>None</td>\n",
       "      <td>0</td>\n",
       "      <td>[]</td>\n",
       "      <td>None</td>\n",
       "      <td>NaN</td>\n",
       "      <td>NaN</td>\n",
       "      <td>NaN</td>\n",
       "      <td>NaN</td>\n",
       "    </tr>\n",
       "    <tr>\n",
       "      <th>2</th>\n",
       "      <td>[]</td>\n",
       "      <td>False</td>\n",
       "      <td>None</td>\n",
       "      <td>ubiquitous_archer</td>\n",
       "      <td></td>\n",
       "      <td>f1-CAN</td>\n",
       "      <td>[]</td>\n",
       "      <td>None</td>\n",
       "      <td>None</td>\n",
       "      <td>dark</td>\n",
       "      <td>...</td>\n",
       "      <td>r/Everton</td>\n",
       "      <td>public</td>\n",
       "      <td>None</td>\n",
       "      <td>0</td>\n",
       "      <td>[]</td>\n",
       "      <td>None</td>\n",
       "      <td>NaN</td>\n",
       "      <td>NaN</td>\n",
       "      <td>NaN</td>\n",
       "      <td>NaN</td>\n",
       "    </tr>\n",
       "  </tbody>\n",
       "</table>\n",
       "<p>3 rows × 51 columns</p>\n",
       "</div>"
      ],
      "text/plain": [
       "  all_awardings archived associated_award             author  \\\n",
       "0            []    False             None           d_reisel   \n",
       "1            []    False             None             abctof   \n",
       "2            []    False             None  ubiquitous_archer   \n",
       "\n",
       "  author_flair_background_color author_flair_css_class author_flair_richtext  \\\n",
       "0                          None                   None                    []   \n",
       "1                          None                   None                    []   \n",
       "2                                               f1-CAN                    []   \n",
       "\n",
       "  author_flair_template_id author_flair_text author_flair_text_color  ...  \\\n",
       "0                     None              None                    None  ...   \n",
       "1                     None              None                    None  ...   \n",
       "2                     None              None                    dark  ...   \n",
       "\n",
       "  subreddit_name_prefixed subreddit_type top_awarded_type  \\\n",
       "0               r/Everton         public             None   \n",
       "1               r/Everton         public             None   \n",
       "2               r/Everton         public             None   \n",
       "\n",
       "  total_awards_received treatment_tags unrepliable_reason author_cakeday  \\\n",
       "0                     0             []               None            NaN   \n",
       "1                     0             []               None            NaN   \n",
       "2                     0             []               None            NaN   \n",
       "\n",
       "  awarders retrieved_on edited  \n",
       "0      NaN          NaN    NaN  \n",
       "1      NaN          NaN    NaN  \n",
       "2      NaN          NaN    NaN  \n",
       "\n",
       "[3 rows x 51 columns]"
      ]
     },
     "execution_count": 67,
     "metadata": {},
     "output_type": "execute_result"
    }
   ],
   "source": [
    "reddit_comments_everton.head(3)"
   ]
  },
  {
   "cell_type": "code",
   "execution_count": null,
   "id": "8ead69b4",
   "metadata": {},
   "outputs": [],
   "source": [
    "list(reddit_comments_everton)"
   ]
  },
  {
   "cell_type": "code",
   "execution_count": 93,
   "id": "3e619a34",
   "metadata": {},
   "outputs": [
    {
     "data": {
      "text/html": [
       "<div>\n",
       "<style scoped>\n",
       "    .dataframe tbody tr th:only-of-type {\n",
       "        vertical-align: middle;\n",
       "    }\n",
       "\n",
       "    .dataframe tbody tr th {\n",
       "        vertical-align: top;\n",
       "    }\n",
       "\n",
       "    .dataframe thead th {\n",
       "        text-align: right;\n",
       "    }\n",
       "</style>\n",
       "<table border=\"1\" class=\"dataframe\">\n",
       "  <thead>\n",
       "    <tr style=\"text-align: right;\">\n",
       "      <th></th>\n",
       "      <th>subreddit</th>\n",
       "      <th>body</th>\n",
       "    </tr>\n",
       "  </thead>\n",
       "  <tbody>\n",
       "    <tr>\n",
       "      <th>0</th>\n",
       "      <td>LiverpoolFC</td>\n",
       "      <td>Same way that we were linked with Jorginho for...</td>\n",
       "    </tr>\n",
       "    <tr>\n",
       "      <th>1</th>\n",
       "      <td>LiverpoolFC</td>\n",
       "      <td>[removed]</td>\n",
       "    </tr>\n",
       "    <tr>\n",
       "      <th>2</th>\n",
       "      <td>LiverpoolFC</td>\n",
       "      <td>Got happy for a moment and then I realised I’m...</td>\n",
       "    </tr>\n",
       "  </tbody>\n",
       "</table>\n",
       "</div>"
      ],
      "text/plain": [
       "     subreddit                                               body\n",
       "0  LiverpoolFC  Same way that we were linked with Jorginho for...\n",
       "1  LiverpoolFC                                          [removed]\n",
       "2  LiverpoolFC  Got happy for a moment and then I realised I’m..."
      ]
     },
     "execution_count": 93,
     "metadata": {},
     "output_type": "execute_result"
    }
   ],
   "source": [
    "lfc_comments = reddit_comments_lfc[['subreddit', 'body']]\n",
    "lfc_comments.head(3)"
   ]
  },
  {
   "cell_type": "code",
   "execution_count": 102,
   "id": "5226df42",
   "metadata": {},
   "outputs": [
    {
     "data": {
      "text/html": [
       "<div>\n",
       "<style scoped>\n",
       "    .dataframe tbody tr th:only-of-type {\n",
       "        vertical-align: middle;\n",
       "    }\n",
       "\n",
       "    .dataframe tbody tr th {\n",
       "        vertical-align: top;\n",
       "    }\n",
       "\n",
       "    .dataframe thead th {\n",
       "        text-align: right;\n",
       "    }\n",
       "</style>\n",
       "<table border=\"1\" class=\"dataframe\">\n",
       "  <thead>\n",
       "    <tr style=\"text-align: right;\">\n",
       "      <th></th>\n",
       "      <th>subreddit</th>\n",
       "      <th>body</th>\n",
       "    </tr>\n",
       "  </thead>\n",
       "  <tbody>\n",
       "    <tr>\n",
       "      <th>97</th>\n",
       "      <td>Everton</td>\n",
       "      <td>This. Finishing is everything when you’re at t...</td>\n",
       "    </tr>\n",
       "    <tr>\n",
       "      <th>98</th>\n",
       "      <td>Everton</td>\n",
       "      <td>Godfrey is just not a right back. Should've si...</td>\n",
       "    </tr>\n",
       "    <tr>\n",
       "      <th>99</th>\n",
       "      <td>Everton</td>\n",
       "      <td>Jim beglin needs to shut up hahah</td>\n",
       "    </tr>\n",
       "  </tbody>\n",
       "</table>\n",
       "</div>"
      ],
      "text/plain": [
       "   subreddit                                               body\n",
       "97   Everton  This. Finishing is everything when you’re at t...\n",
       "98   Everton  Godfrey is just not a right back. Should've si...\n",
       "99   Everton                  Jim beglin needs to shut up hahah"
      ]
     },
     "execution_count": 102,
     "metadata": {},
     "output_type": "execute_result"
    }
   ],
   "source": [
    "everton_comments = reddit_comments_everton[['subreddit', 'body']]\n",
    "everton_comments.tail(3)"
   ]
  },
  {
   "cell_type": "code",
   "execution_count": 100,
   "id": "4d55e60c",
   "metadata": {},
   "outputs": [],
   "source": [
    "total_comments = pd.concat([lfc_comments, everton_comments], ignore_index=True)"
   ]
  },
  {
   "cell_type": "code",
   "execution_count": 101,
   "id": "9503f3d6",
   "metadata": {},
   "outputs": [
    {
     "data": {
      "text/html": [
       "<div>\n",
       "<style scoped>\n",
       "    .dataframe tbody tr th:only-of-type {\n",
       "        vertical-align: middle;\n",
       "    }\n",
       "\n",
       "    .dataframe tbody tr th {\n",
       "        vertical-align: top;\n",
       "    }\n",
       "\n",
       "    .dataframe thead th {\n",
       "        text-align: right;\n",
       "    }\n",
       "</style>\n",
       "<table border=\"1\" class=\"dataframe\">\n",
       "  <thead>\n",
       "    <tr style=\"text-align: right;\">\n",
       "      <th></th>\n",
       "      <th>subreddit</th>\n",
       "      <th>body</th>\n",
       "    </tr>\n",
       "  </thead>\n",
       "  <tbody>\n",
       "    <tr>\n",
       "      <th>99987</th>\n",
       "      <td>Everton</td>\n",
       "      <td>This. Finishing is everything when you’re at t...</td>\n",
       "    </tr>\n",
       "    <tr>\n",
       "      <th>99988</th>\n",
       "      <td>Everton</td>\n",
       "      <td>Godfrey is just not a right back. Should've si...</td>\n",
       "    </tr>\n",
       "    <tr>\n",
       "      <th>99989</th>\n",
       "      <td>Everton</td>\n",
       "      <td>Jim beglin needs to shut up hahah</td>\n",
       "    </tr>\n",
       "  </tbody>\n",
       "</table>\n",
       "</div>"
      ],
      "text/plain": [
       "      subreddit                                               body\n",
       "99987   Everton  This. Finishing is everything when you’re at t...\n",
       "99988   Everton  Godfrey is just not a right back. Should've si...\n",
       "99989   Everton                  Jim beglin needs to shut up hahah"
      ]
     },
     "execution_count": 101,
     "metadata": {},
     "output_type": "execute_result"
    }
   ],
   "source": [
    "total_comments.tail(3)"
   ]
  },
  {
   "cell_type": "code",
   "execution_count": 105,
   "id": "6b46b926",
   "metadata": {},
   "outputs": [],
   "source": [
    "total_comments.to_csv('data/total_comments.csv')"
   ]
  }
 ],
 "metadata": {
  "kernelspec": {
   "display_name": "Python 3",
   "language": "python",
   "name": "python3"
  },
  "language_info": {
   "codemirror_mode": {
    "name": "ipython",
    "version": 3
   },
   "file_extension": ".py",
   "mimetype": "text/x-python",
   "name": "python",
   "nbconvert_exporter": "python",
   "pygments_lexer": "ipython3",
   "version": "3.8.8"
  }
 },
 "nbformat": 4,
 "nbformat_minor": 5
}
