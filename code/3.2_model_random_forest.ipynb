{
 "cells": [
  {
   "cell_type": "code",
   "execution_count": 21,
   "id": "b25fc643",
   "metadata": {},
   "outputs": [],
   "source": [
    "import pandas as pd\n",
    "from sklearn.pipeline import Pipeline\n",
    "from sklearn.model_selection import train_test_split, GridSearchCV\n",
    "from sklearn.metrics import confusion_matrix, accuracy_score, classification_report\n",
    "from sklearn.feature_extraction.text import CountVectorizer, TfidfVectorizer\n",
    "from sklearn.tree import DecisionTreeClassifier\n",
    "from sklearn.model_selection import train_test_split, GridSearchCV\n",
    "from sklearn.ensemble import RandomForestClassifier\n",
    "from sklearn.pipeline import Pipeline\n",
    "from sklearn.metrics import confusion_matrix, plot_confusion_matrix, accuracy_score, classification_report"
   ]
  },
  {
   "cell_type": "code",
   "execution_count": 3,
   "id": "3cec48c3",
   "metadata": {},
   "outputs": [],
   "source": [
    "submissions_original = pd.read_csv('../data/submissions_no_sanitize.csv').drop(['Unnamed: 0', 'selftext'], axis=1)"
   ]
  },
  {
   "cell_type": "code",
   "execution_count": 64,
   "id": "5a2ac781",
   "metadata": {},
   "outputs": [
    {
     "data": {
      "text/html": [
       "<div>\n",
       "<style scoped>\n",
       "    .dataframe tbody tr th:only-of-type {\n",
       "        vertical-align: middle;\n",
       "    }\n",
       "\n",
       "    .dataframe tbody tr th {\n",
       "        vertical-align: top;\n",
       "    }\n",
       "\n",
       "    .dataframe thead th {\n",
       "        text-align: right;\n",
       "    }\n",
       "</style>\n",
       "<table border=\"1\" class=\"dataframe\">\n",
       "  <thead>\n",
       "    <tr style=\"text-align: right;\">\n",
       "      <th></th>\n",
       "      <th>subreddit</th>\n",
       "      <th>title</th>\n",
       "      <th>all</th>\n",
       "      <th>all_no_rem_or_del</th>\n",
       "    </tr>\n",
       "  </thead>\n",
       "  <tbody>\n",
       "    <tr>\n",
       "      <th>0</th>\n",
       "      <td>LiverpoolFC</td>\n",
       "      <td>Looked up Luis Díaz's stats and Wiki..... Look...</td>\n",
       "      <td>Looked up Luis Díaz's stats and Wiki..... Look...</td>\n",
       "      <td>Looked up Luis Díaz's stats and Wiki..... Look...</td>\n",
       "    </tr>\n",
       "    <tr>\n",
       "      <th>1</th>\n",
       "      <td>LiverpoolFC</td>\n",
       "      <td>Why No Support for Our Boys in Afcon? :(</td>\n",
       "      <td>[removed]Why No Support for Our Boys in Afcon? :(</td>\n",
       "      <td>Why No Support for Our Boys in Afcon? :(</td>\n",
       "    </tr>\n",
       "    <tr>\n",
       "      <th>2</th>\n",
       "      <td>LiverpoolFC</td>\n",
       "      <td>Most valuable left wingers in the world. Opini...</td>\n",
       "      <td>Most valuable left wingers in the world. Opini...</td>\n",
       "      <td>Most valuable left wingers in the world. Opini...</td>\n",
       "    </tr>\n",
       "    <tr>\n",
       "      <th>3</th>\n",
       "      <td>LiverpoolFC</td>\n",
       "      <td>We have some really good dancers on this team.</td>\n",
       "      <td>We have some really good dancers on this team.</td>\n",
       "      <td>We have some really good dancers on this team.</td>\n",
       "    </tr>\n",
       "    <tr>\n",
       "      <th>4</th>\n",
       "      <td>LiverpoolFC</td>\n",
       "      <td>[Fabrizio Romano] Liverpool and Porto sources ...</td>\n",
       "      <td>[Fabrizio Romano] Liverpool and Porto sources ...</td>\n",
       "      <td>[Fabrizio Romano] Liverpool and Porto sources ...</td>\n",
       "    </tr>\n",
       "  </tbody>\n",
       "</table>\n",
       "</div>"
      ],
      "text/plain": [
       "     subreddit                                              title  \\\n",
       "0  LiverpoolFC  Looked up Luis Díaz's stats and Wiki..... Look...   \n",
       "1  LiverpoolFC           Why No Support for Our Boys in Afcon? :(   \n",
       "2  LiverpoolFC  Most valuable left wingers in the world. Opini...   \n",
       "3  LiverpoolFC     We have some really good dancers on this team.   \n",
       "4  LiverpoolFC  [Fabrizio Romano] Liverpool and Porto sources ...   \n",
       "\n",
       "                                                 all  \\\n",
       "0  Looked up Luis Díaz's stats and Wiki..... Look...   \n",
       "1  [removed]Why No Support for Our Boys in Afcon? :(   \n",
       "2  Most valuable left wingers in the world. Opini...   \n",
       "3     We have some really good dancers on this team.   \n",
       "4  [Fabrizio Romano] Liverpool and Porto sources ...   \n",
       "\n",
       "                                   all_no_rem_or_del  \n",
       "0  Looked up Luis Díaz's stats and Wiki..... Look...  \n",
       "1           Why No Support for Our Boys in Afcon? :(  \n",
       "2  Most valuable left wingers in the world. Opini...  \n",
       "3     We have some really good dancers on this team.  \n",
       "4  [Fabrizio Romano] Liverpool and Porto sources ...  "
      ]
     },
     "execution_count": 64,
     "metadata": {},
     "output_type": "execute_result"
    }
   ],
   "source": [
    "submissions_original.head()"
   ]
  },
  {
   "cell_type": "code",
   "execution_count": 65,
   "id": "1798a14d",
   "metadata": {
    "scrolled": true
   },
   "outputs": [
    {
     "data": {
      "text/plain": [
       "subreddit            0\n",
       "title                4\n",
       "all                  0\n",
       "all_no_rem_or_del    0\n",
       "dtype: int64"
      ]
     },
     "execution_count": 65,
     "metadata": {},
     "output_type": "execute_result"
    }
   ],
   "source": [
    "submissions_original.isnull().sum()"
   ]
  },
  {
   "cell_type": "code",
   "execution_count": 66,
   "id": "08d6335f",
   "metadata": {},
   "outputs": [
    {
     "data": {
      "text/plain": [
       "(57908, 4)"
      ]
     },
     "execution_count": 66,
     "metadata": {},
     "output_type": "execute_result"
    }
   ],
   "source": [
    "submissions_original.shape"
   ]
  },
  {
   "cell_type": "code",
   "execution_count": 67,
   "id": "66df49e5",
   "metadata": {},
   "outputs": [
    {
     "data": {
      "text/html": [
       "<div>\n",
       "<style scoped>\n",
       "    .dataframe tbody tr th:only-of-type {\n",
       "        vertical-align: middle;\n",
       "    }\n",
       "\n",
       "    .dataframe tbody tr th {\n",
       "        vertical-align: top;\n",
       "    }\n",
       "\n",
       "    .dataframe thead th {\n",
       "        text-align: right;\n",
       "    }\n",
       "</style>\n",
       "<table border=\"1\" class=\"dataframe\">\n",
       "  <thead>\n",
       "    <tr style=\"text-align: right;\">\n",
       "      <th></th>\n",
       "      <th>subreddit</th>\n",
       "      <th>title</th>\n",
       "      <th>all</th>\n",
       "      <th>all_no_rem_or_del</th>\n",
       "    </tr>\n",
       "  </thead>\n",
       "  <tbody>\n",
       "    <tr>\n",
       "      <th>0</th>\n",
       "      <td>LiverpoolFC</td>\n",
       "      <td>Looked up Luis Díaz's stats and Wiki..... Look...</td>\n",
       "      <td>Looked up Luis Díaz's stats and Wiki..... Look...</td>\n",
       "      <td>Looked up Luis Díaz's stats and Wiki..... Look...</td>\n",
       "    </tr>\n",
       "    <tr>\n",
       "      <th>1</th>\n",
       "      <td>LiverpoolFC</td>\n",
       "      <td>Why No Support for Our Boys in Afcon? :(</td>\n",
       "      <td>[removed]Why No Support for Our Boys in Afcon? :(</td>\n",
       "      <td>Why No Support for Our Boys in Afcon? :(</td>\n",
       "    </tr>\n",
       "    <tr>\n",
       "      <th>2</th>\n",
       "      <td>LiverpoolFC</td>\n",
       "      <td>Most valuable left wingers in the world. Opini...</td>\n",
       "      <td>Most valuable left wingers in the world. Opini...</td>\n",
       "      <td>Most valuable left wingers in the world. Opini...</td>\n",
       "    </tr>\n",
       "    <tr>\n",
       "      <th>3</th>\n",
       "      <td>LiverpoolFC</td>\n",
       "      <td>We have some really good dancers on this team.</td>\n",
       "      <td>We have some really good dancers on this team.</td>\n",
       "      <td>We have some really good dancers on this team.</td>\n",
       "    </tr>\n",
       "    <tr>\n",
       "      <th>4</th>\n",
       "      <td>LiverpoolFC</td>\n",
       "      <td>[Fabrizio Romano] Liverpool and Porto sources ...</td>\n",
       "      <td>[Fabrizio Romano] Liverpool and Porto sources ...</td>\n",
       "      <td>[Fabrizio Romano] Liverpool and Porto sources ...</td>\n",
       "    </tr>\n",
       "    <tr>\n",
       "      <th>...</th>\n",
       "      <td>...</td>\n",
       "      <td>...</td>\n",
       "      <td>...</td>\n",
       "      <td>...</td>\n",
       "    </tr>\n",
       "    <tr>\n",
       "      <th>57903</th>\n",
       "      <td>Everton</td>\n",
       "      <td>Everton Boosted as Inter Reportedly Look to Se...</td>\n",
       "      <td>Everton Boosted as Inter Reportedly Look to Se...</td>\n",
       "      <td>Everton Boosted as Inter Reportedly Look to Se...</td>\n",
       "    </tr>\n",
       "    <tr>\n",
       "      <th>57904</th>\n",
       "      <td>Everton</td>\n",
       "      <td>Everton-Chelsea rating results</td>\n",
       "      <td>I have a feeling this is going to illicit a fe...</td>\n",
       "      <td>I have a feeling this is going to illicit a fe...</td>\n",
       "    </tr>\n",
       "    <tr>\n",
       "      <th>57905</th>\n",
       "      <td>Everton</td>\n",
       "      <td>I loved the picture from that Guardian article...</td>\n",
       "      <td>I loved the picture from that Guardian article...</td>\n",
       "      <td>I loved the picture from that Guardian article...</td>\n",
       "    </tr>\n",
       "    <tr>\n",
       "      <th>57906</th>\n",
       "      <td>Everton</td>\n",
       "      <td>Blues Brothers: Phil Jagielka v Leighton Baines</td>\n",
       "      <td>Blues Brothers: Phil Jagielka v Leighton Baines</td>\n",
       "      <td>Blues Brothers: Phil Jagielka v Leighton Baines</td>\n",
       "    </tr>\n",
       "    <tr>\n",
       "      <th>57907</th>\n",
       "      <td>Everton</td>\n",
       "      <td>Everton to reward defender Brendan Galloway wi...</td>\n",
       "      <td>Everton to reward defender Brendan Galloway wi...</td>\n",
       "      <td>Everton to reward defender Brendan Galloway wi...</td>\n",
       "    </tr>\n",
       "  </tbody>\n",
       "</table>\n",
       "<p>57904 rows × 4 columns</p>\n",
       "</div>"
      ],
      "text/plain": [
       "         subreddit                                              title  \\\n",
       "0      LiverpoolFC  Looked up Luis Díaz's stats and Wiki..... Look...   \n",
       "1      LiverpoolFC           Why No Support for Our Boys in Afcon? :(   \n",
       "2      LiverpoolFC  Most valuable left wingers in the world. Opini...   \n",
       "3      LiverpoolFC     We have some really good dancers on this team.   \n",
       "4      LiverpoolFC  [Fabrizio Romano] Liverpool and Porto sources ...   \n",
       "...            ...                                                ...   \n",
       "57903      Everton  Everton Boosted as Inter Reportedly Look to Se...   \n",
       "57904      Everton                     Everton-Chelsea rating results   \n",
       "57905      Everton  I loved the picture from that Guardian article...   \n",
       "57906      Everton    Blues Brothers: Phil Jagielka v Leighton Baines   \n",
       "57907      Everton  Everton to reward defender Brendan Galloway wi...   \n",
       "\n",
       "                                                     all  \\\n",
       "0      Looked up Luis Díaz's stats and Wiki..... Look...   \n",
       "1      [removed]Why No Support for Our Boys in Afcon? :(   \n",
       "2      Most valuable left wingers in the world. Opini...   \n",
       "3         We have some really good dancers on this team.   \n",
       "4      [Fabrizio Romano] Liverpool and Porto sources ...   \n",
       "...                                                  ...   \n",
       "57903  Everton Boosted as Inter Reportedly Look to Se...   \n",
       "57904  I have a feeling this is going to illicit a fe...   \n",
       "57905  I loved the picture from that Guardian article...   \n",
       "57906    Blues Brothers: Phil Jagielka v Leighton Baines   \n",
       "57907  Everton to reward defender Brendan Galloway wi...   \n",
       "\n",
       "                                       all_no_rem_or_del  \n",
       "0      Looked up Luis Díaz's stats and Wiki..... Look...  \n",
       "1               Why No Support for Our Boys in Afcon? :(  \n",
       "2      Most valuable left wingers in the world. Opini...  \n",
       "3         We have some really good dancers on this team.  \n",
       "4      [Fabrizio Romano] Liverpool and Porto sources ...  \n",
       "...                                                  ...  \n",
       "57903  Everton Boosted as Inter Reportedly Look to Se...  \n",
       "57904  I have a feeling this is going to illicit a fe...  \n",
       "57905  I loved the picture from that Guardian article...  \n",
       "57906    Blues Brothers: Phil Jagielka v Leighton Baines  \n",
       "57907  Everton to reward defender Brendan Galloway wi...  \n",
       "\n",
       "[57904 rows x 4 columns]"
      ]
     },
     "execution_count": 67,
     "metadata": {},
     "output_type": "execute_result"
    }
   ],
   "source": [
    "submissions_original.dropna()"
   ]
  },
  {
   "cell_type": "code",
   "execution_count": 4,
   "id": "0ae31320",
   "metadata": {},
   "outputs": [],
   "source": [
    "X = submissions_original['all']\n",
    "y = submissions_original['subreddit']"
   ]
  },
  {
   "cell_type": "code",
   "execution_count": 69,
   "id": "38570a06",
   "metadata": {},
   "outputs": [
    {
     "data": {
      "text/plain": [
       "LiverpoolFC    0.500967\n",
       "Everton        0.499033\n",
       "Name: subreddit, dtype: float64"
      ]
     },
     "execution_count": 69,
     "metadata": {},
     "output_type": "execute_result"
    }
   ],
   "source": [
    "y.value_counts(normalize=True)"
   ]
  },
  {
   "cell_type": "code",
   "execution_count": 5,
   "id": "3065b25c",
   "metadata": {},
   "outputs": [],
   "source": [
    "X_train, X_test, y_train, y_test = train_test_split(X,\n",
    "                                                    y,\n",
    "                                                    test_size=0.20,\n",
    "                                                    stratify=y,#stratify = y b/c the data = imbalanced\n",
    "                                                    random_state=42)"
   ]
  },
  {
   "cell_type": "code",
   "execution_count": 74,
   "id": "0f380a81",
   "metadata": {},
   "outputs": [],
   "source": [
    "pipe_rf = Pipeline([\n",
    "    ('tvec', TfidfVectorizer()),\n",
    "    ('rf', RandomForestClassifier(n_jobs=-1))\n",
    "])"
   ]
  },
  {
   "cell_type": "code",
   "execution_count": 78,
   "id": "6d039a31",
   "metadata": {},
   "outputs": [],
   "source": [
    "pipe_params_rf = {\n",
    "    'tvec__max_features' : [10_000, 12_500],\n",
    "    'tvec__ngram_range' : [(1,3)],\n",
    "    'tvec__stop_words' : [None, 'english'],\n",
    "    'rf__n_estimators' : [150, 200, 250, 300]\n",
    "}"
   ]
  },
  {
   "cell_type": "code",
   "execution_count": 79,
   "id": "9b72ce1d",
   "metadata": {},
   "outputs": [],
   "source": [
    "gs_rf = GridSearchCV(pipe_rf, param_grid=pipe_params_rf, cv=3, verbose = 3)"
   ]
  },
  {
   "cell_type": "code",
   "execution_count": 80,
   "id": "b3726771",
   "metadata": {},
   "outputs": [
    {
     "name": "stdout",
     "output_type": "stream",
     "text": [
      "Fitting 3 folds for each of 16 candidates, totalling 48 fits\n",
      "[CV 1/3] END rf__n_estimators=150, tvec__max_features=10000, tvec__ngram_range=(1, 3), tvec__stop_words=None; total time= 1.9min\n",
      "[CV 2/3] END rf__n_estimators=150, tvec__max_features=10000, tvec__ngram_range=(1, 3), tvec__stop_words=None; total time= 1.9min\n",
      "[CV 3/3] END rf__n_estimators=150, tvec__max_features=10000, tvec__ngram_range=(1, 3), tvec__stop_words=None; total time= 2.0min\n",
      "[CV 1/3] END rf__n_estimators=150, tvec__max_features=10000, tvec__ngram_range=(1, 3), tvec__stop_words=english; total time= 1.4min\n",
      "[CV 2/3] END rf__n_estimators=150, tvec__max_features=10000, tvec__ngram_range=(1, 3), tvec__stop_words=english; total time= 1.5min\n",
      "[CV 3/3] END rf__n_estimators=150, tvec__max_features=10000, tvec__ngram_range=(1, 3), tvec__stop_words=english; total time= 1.3min\n",
      "[CV 1/3] END rf__n_estimators=150, tvec__max_features=12500, tvec__ngram_range=(1, 3), tvec__stop_words=None; total time= 1.8min\n",
      "[CV 2/3] END rf__n_estimators=150, tvec__max_features=12500, tvec__ngram_range=(1, 3), tvec__stop_words=None; total time= 1.9min\n",
      "[CV 3/3] END rf__n_estimators=150, tvec__max_features=12500, tvec__ngram_range=(1, 3), tvec__stop_words=None; total time= 1.9min\n",
      "[CV 1/3] END rf__n_estimators=150, tvec__max_features=12500, tvec__ngram_range=(1, 3), tvec__stop_words=english; total time= 1.4min\n",
      "[CV 2/3] END rf__n_estimators=150, tvec__max_features=12500, tvec__ngram_range=(1, 3), tvec__stop_words=english; total time= 1.5min\n",
      "[CV 3/3] END rf__n_estimators=150, tvec__max_features=12500, tvec__ngram_range=(1, 3), tvec__stop_words=english; total time= 1.4min\n",
      "[CV 1/3] END rf__n_estimators=200, tvec__max_features=10000, tvec__ngram_range=(1, 3), tvec__stop_words=None; total time= 2.2min\n",
      "[CV 2/3] END rf__n_estimators=200, tvec__max_features=10000, tvec__ngram_range=(1, 3), tvec__stop_words=None; total time= 2.3min\n",
      "[CV 3/3] END rf__n_estimators=200, tvec__max_features=10000, tvec__ngram_range=(1, 3), tvec__stop_words=None; total time= 2.1min\n",
      "[CV 1/3] END rf__n_estimators=200, tvec__max_features=10000, tvec__ngram_range=(1, 3), tvec__stop_words=english; total time= 1.7min\n",
      "[CV 2/3] END rf__n_estimators=200, tvec__max_features=10000, tvec__ngram_range=(1, 3), tvec__stop_words=english; total time= 1.9min\n",
      "[CV 3/3] END rf__n_estimators=200, tvec__max_features=10000, tvec__ngram_range=(1, 3), tvec__stop_words=english; total time= 1.8min\n",
      "[CV 1/3] END rf__n_estimators=200, tvec__max_features=12500, tvec__ngram_range=(1, 3), tvec__stop_words=None; total time= 2.3min\n",
      "[CV 2/3] END rf__n_estimators=200, tvec__max_features=12500, tvec__ngram_range=(1, 3), tvec__stop_words=None; total time= 2.1min\n",
      "[CV 3/3] END rf__n_estimators=200, tvec__max_features=12500, tvec__ngram_range=(1, 3), tvec__stop_words=None; total time= 2.3min\n",
      "[CV 1/3] END rf__n_estimators=200, tvec__max_features=12500, tvec__ngram_range=(1, 3), tvec__stop_words=english; total time= 1.8min\n",
      "[CV 2/3] END rf__n_estimators=200, tvec__max_features=12500, tvec__ngram_range=(1, 3), tvec__stop_words=english; total time= 1.9min\n",
      "[CV 3/3] END rf__n_estimators=200, tvec__max_features=12500, tvec__ngram_range=(1, 3), tvec__stop_words=english; total time= 2.1min\n",
      "[CV 1/3] END rf__n_estimators=250, tvec__max_features=10000, tvec__ngram_range=(1, 3), tvec__stop_words=None; total time= 2.7min\n",
      "[CV 2/3] END rf__n_estimators=250, tvec__max_features=10000, tvec__ngram_range=(1, 3), tvec__stop_words=None; total time= 2.7min\n",
      "[CV 3/3] END rf__n_estimators=250, tvec__max_features=10000, tvec__ngram_range=(1, 3), tvec__stop_words=None; total time= 2.7min\n",
      "[CV 1/3] END rf__n_estimators=250, tvec__max_features=10000, tvec__ngram_range=(1, 3), tvec__stop_words=english; total time= 2.1min\n",
      "[CV 2/3] END rf__n_estimators=250, tvec__max_features=10000, tvec__ngram_range=(1, 3), tvec__stop_words=english; total time= 2.2min\n",
      "[CV 3/3] END rf__n_estimators=250, tvec__max_features=10000, tvec__ngram_range=(1, 3), tvec__stop_words=english; total time= 2.2min\n",
      "[CV 1/3] END rf__n_estimators=250, tvec__max_features=12500, tvec__ngram_range=(1, 3), tvec__stop_words=None; total time= 2.8min\n",
      "[CV 2/3] END rf__n_estimators=250, tvec__max_features=12500, tvec__ngram_range=(1, 3), tvec__stop_words=None; total time= 3.0min\n",
      "[CV 3/3] END rf__n_estimators=250, tvec__max_features=12500, tvec__ngram_range=(1, 3), tvec__stop_words=None; total time= 2.9min\n",
      "[CV 1/3] END rf__n_estimators=250, tvec__max_features=12500, tvec__ngram_range=(1, 3), tvec__stop_words=english; total time= 2.4min\n",
      "[CV 2/3] END rf__n_estimators=250, tvec__max_features=12500, tvec__ngram_range=(1, 3), tvec__stop_words=english; total time= 2.3min\n",
      "[CV 3/3] END rf__n_estimators=250, tvec__max_features=12500, tvec__ngram_range=(1, 3), tvec__stop_words=english; total time= 2.2min\n",
      "[CV 1/3] END rf__n_estimators=300, tvec__max_features=10000, tvec__ngram_range=(1, 3), tvec__stop_words=None; total time= 3.0min\n",
      "[CV 2/3] END rf__n_estimators=300, tvec__max_features=10000, tvec__ngram_range=(1, 3), tvec__stop_words=None; total time= 3.1min\n",
      "[CV 3/3] END rf__n_estimators=300, tvec__max_features=10000, tvec__ngram_range=(1, 3), tvec__stop_words=None; total time= 3.1min\n",
      "[CV 1/3] END rf__n_estimators=300, tvec__max_features=10000, tvec__ngram_range=(1, 3), tvec__stop_words=english; total time= 2.5min\n",
      "[CV 2/3] END rf__n_estimators=300, tvec__max_features=10000, tvec__ngram_range=(1, 3), tvec__stop_words=english; total time= 2.7min\n",
      "[CV 3/3] END rf__n_estimators=300, tvec__max_features=10000, tvec__ngram_range=(1, 3), tvec__stop_words=english; total time= 2.5min\n",
      "[CV 1/3] END rf__n_estimators=300, tvec__max_features=12500, tvec__ngram_range=(1, 3), tvec__stop_words=None; total time= 3.4min\n",
      "[CV 2/3] END rf__n_estimators=300, tvec__max_features=12500, tvec__ngram_range=(1, 3), tvec__stop_words=None; total time= 3.4min\n",
      "[CV 3/3] END rf__n_estimators=300, tvec__max_features=12500, tvec__ngram_range=(1, 3), tvec__stop_words=None; total time= 3.4min\n",
      "[CV 1/3] END rf__n_estimators=300, tvec__max_features=12500, tvec__ngram_range=(1, 3), tvec__stop_words=english; total time= 2.8min\n",
      "[CV 2/3] END rf__n_estimators=300, tvec__max_features=12500, tvec__ngram_range=(1, 3), tvec__stop_words=english; total time= 2.8min\n",
      "[CV 3/3] END rf__n_estimators=300, tvec__max_features=12500, tvec__ngram_range=(1, 3), tvec__stop_words=english; total time= 2.5min\n"
     ]
    },
    {
     "data": {
      "text/plain": [
       "GridSearchCV(cv=3,\n",
       "             estimator=Pipeline(steps=[('tvec', TfidfVectorizer()),\n",
       "                                       ('rf',\n",
       "                                        RandomForestClassifier(n_jobs=-1))]),\n",
       "             param_grid={'rf__n_estimators': [150, 200, 250, 300],\n",
       "                         'tvec__max_features': [10000, 12500],\n",
       "                         'tvec__ngram_range': [(1, 3)],\n",
       "                         'tvec__stop_words': [None, 'english']},\n",
       "             verbose=3)"
      ]
     },
     "execution_count": 80,
     "metadata": {},
     "output_type": "execute_result"
    }
   ],
   "source": [
    "gs_rf.fit(X_train, y_train)"
   ]
  },
  {
   "cell_type": "code",
   "execution_count": 81,
   "id": "7e1faf2b",
   "metadata": {
    "scrolled": false
   },
   "outputs": [
    {
     "data": {
      "text/plain": [
       "Pipeline(steps=[('tvec',\n",
       "                 TfidfVectorizer(max_features=12500, ngram_range=(1, 3),\n",
       "                                 stop_words='english')),\n",
       "                ('rf', RandomForestClassifier(n_estimators=300, n_jobs=-1))])"
      ]
     },
     "execution_count": 81,
     "metadata": {},
     "output_type": "execute_result"
    }
   ],
   "source": [
    "gs_rf.best_estimator_"
   ]
  },
  {
   "cell_type": "code",
   "execution_count": 86,
   "id": "6bf6e631",
   "metadata": {},
   "outputs": [],
   "source": [
    "gs_model_rf = gs_rf.best_estimator_"
   ]
  },
  {
   "cell_type": "code",
   "execution_count": 87,
   "id": "19ffabc9",
   "metadata": {},
   "outputs": [
    {
     "data": {
      "text/plain": [
       "Pipeline(steps=[('tvec',\n",
       "                 TfidfVectorizer(max_features=12500, ngram_range=(1, 3),\n",
       "                                 stop_words='english')),\n",
       "                ('rf', RandomForestClassifier(n_estimators=300, n_jobs=-1))])"
      ]
     },
     "execution_count": 87,
     "metadata": {},
     "output_type": "execute_result"
    }
   ],
   "source": [
    "gs_model_rf.fit(X_train, y_train)"
   ]
  },
  {
   "cell_type": "code",
   "execution_count": 12,
   "id": "45ef9aab",
   "metadata": {},
   "outputs": [],
   "source": [
    "gs_model_rf = gs_rf.best_estimator_"
   ]
  },
  {
   "cell_type": "code",
   "execution_count": 13,
   "id": "4a610c0a",
   "metadata": {},
   "outputs": [
    {
     "data": {
      "text/plain": [
       "0.9884945818762682"
      ]
     },
     "execution_count": 13,
     "metadata": {},
     "output_type": "execute_result"
    }
   ],
   "source": [
    "gs_model_rf.score(X_train, y_train)"
   ]
  },
  {
   "cell_type": "code",
   "execution_count": 14,
   "id": "cf0c8edf",
   "metadata": {},
   "outputs": [
    {
     "data": {
      "text/plain": [
       "0.8749784147815576"
      ]
     },
     "execution_count": 14,
     "metadata": {},
     "output_type": "execute_result"
    }
   ],
   "source": [
    "gs_model_rf.score(X_test, y_test)"
   ]
  },
  {
   "cell_type": "code",
   "execution_count": 18,
   "id": "0632e65e",
   "metadata": {},
   "outputs": [
    {
     "name": "stdout",
     "output_type": "stream",
     "text": [
      "Accuracy Score: 0.8749784147815576\n"
     ]
    },
    {
     "data": {
      "text/html": [
       "<div>\n",
       "<style scoped>\n",
       "    .dataframe tbody tr th:only-of-type {\n",
       "        vertical-align: middle;\n",
       "    }\n",
       "\n",
       "    .dataframe tbody tr th {\n",
       "        vertical-align: top;\n",
       "    }\n",
       "\n",
       "    .dataframe thead th {\n",
       "        text-align: right;\n",
       "    }\n",
       "</style>\n",
       "<table border=\"1\" class=\"dataframe\">\n",
       "  <thead>\n",
       "    <tr style=\"text-align: right;\">\n",
       "      <th></th>\n",
       "      <th>Predicted Liverpool</th>\n",
       "      <th>Predicted Everton</th>\n",
       "    </tr>\n",
       "  </thead>\n",
       "  <tbody>\n",
       "    <tr>\n",
       "      <th>Actual Liverpool</th>\n",
       "      <td>4934</td>\n",
       "      <td>846</td>\n",
       "    </tr>\n",
       "    <tr>\n",
       "      <th>Actual Everton</th>\n",
       "      <td>602</td>\n",
       "      <td>5200</td>\n",
       "    </tr>\n",
       "  </tbody>\n",
       "</table>\n",
       "</div>"
      ],
      "text/plain": [
       "                  Predicted Liverpool  Predicted Everton\n",
       "Actual Liverpool                 4934                846\n",
       "Actual Everton                    602               5200"
      ]
     },
     "execution_count": 18,
     "metadata": {},
     "output_type": "execute_result"
    }
   ],
   "source": [
    "def conmat(y_test, preds, classes):\n",
    "\n",
    "    conmat = confusion_matrix(y_test, preds)\n",
    "    print(f'Accuracy Score: {accuracy_score(y_test, preds)}')\n",
    "    return pd.DataFrame(conmat, columns=['Predicted ' +class_ for class_ in classes], \\\n",
    "                index=['Actual '+ class_ for class_ in classes])\n",
    "\n",
    "preds = gs_rf.best_estimator_.predict(X_test)\n",
    "\n",
    "conmat(y_test, preds, ['Liverpool', 'Everton'])"
   ]
  },
  {
   "cell_type": "code",
   "execution_count": 19,
   "id": "0d5aa30f",
   "metadata": {},
   "outputs": [],
   "source": [
    "# Get predictions\n",
    "preds = gs_model_rf.predict(X_test)\n",
    "# Save confusion matrix values\n",
    "tn, fp, fn, tp = confusion_matrix(y_test, preds).ravel()"
   ]
  },
  {
   "cell_type": "code",
   "execution_count": 22,
   "id": "3f1bc37a",
   "metadata": {},
   "outputs": [
    {
     "data": {
      "image/png": "[encoded data removed]",
      "text/plain": [
       "<Figure size 432x288 with 2 Axes>"
      ]
     },
     "metadata": {
      "needs_background": "light"
     },
     "output_type": "display_data"
    }
   ],
   "source": [
    "# View confusion matrix in seaborn\n",
    "plot_confusion_matrix(gs_model_rf, X_test,y_test,cmap='Reds',values_format='d');"
   ]
  },
  {
   "cell_type": "code",
   "execution_count": 26,
   "id": "9a3d4a82",
   "metadata": {},
   "outputs": [
    {
     "name": "stdout",
     "output_type": "stream",
     "text": [
      "Recall: 0.9\n",
      "Precision: 0.86\n",
      "Specificity: 0.85\n",
      "F1_Score: 0.88\n"
     ]
    }
   ],
   "source": [
    "#Recall Rate or Sensitivity\n",
    "#Percentage of true positives gotten correct\n",
    "Recall = tp/(tp + fn)\n",
    "print(f'Recall: {round(Recall,2)}')\n",
    "\n",
    "#Precision\n",
    "#Poportion of correct that are actually correct\n",
    "precision = tp / (tp+fp)\n",
    "print(f'Precision: {round(precision,2)}')\n",
    "\n",
    " # Calculate the specificity TRUE NEG RATE\n",
    "#percentage of true negatives gotten correct\n",
    "specificity = tn/ (tn+fp)\n",
    "print(f'Specificity: {round(specificity,2)}')\n",
    "\n",
    "#the mean of precision and recall.\n",
    "#mean of proportion that are predicted actually positive correctly and actually negative correctly\n",
    "f1_score = (2*precision*Recall)/ (precision + Recall)\n",
    "print(f'F1_Score: {round(f1_score,2)}')"
   ]
  }
 ],
 "metadata": {
  "kernelspec": {
   "display_name": "Python 3",
   "language": "python",
   "name": "python3"
  },
  "language_info": {
   "codemirror_mode": {
    "name": "ipython",
    "version": 3
   },
   "file_extension": ".py",
   "mimetype": "text/x-python",
   "name": "python",
   "nbconvert_exporter": "python",
   "pygments_lexer": "ipython3",
   "version": "3.8.8"
  }
 },
 "nbformat": 4,
 "nbformat_minor": 5
}
