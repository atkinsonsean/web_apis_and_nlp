{
 "cells": [
  {
   "cell_type": "code",
   "execution_count": 152,
   "id": "b25fc643",
   "metadata": {},
   "outputs": [],
   "source": [
    "import pandas as pd\n",
    "from sklearn.pipeline import Pipeline\n",
    "from sklearn.model_selection import train_test_split, GridSearchCV\n",
    "from sklearn.metrics import confusion_matrix, accuracy_score, classification_report\n",
    "from sklearn.feature_extraction.text import CountVectorizer, TfidfVectorizer\n",
    "from sklearn.tree import DecisionTreeClassifier\n",
    "from sklearn.model_selection import train_test_split, GridSearchCV\n",
    "from sklearn.svm import SVC\n",
    "from sklearn.pipeline import Pipeline\n",
    "from sklearn.metrics import confusion_matrix, plot_confusion_matrix, accuracy_score, classification_report"
   ]
  },
  {
   "cell_type": "code",
   "execution_count": 126,
   "id": "3cec48c3",
   "metadata": {},
   "outputs": [],
   "source": [
    "submissions_original = pd.read_csv('../data/submissions_no_sanitize_blank.csv').drop(['Unnamed: 0', 'selftext'], axis=1)"
   ]
  },
  {
   "cell_type": "code",
   "execution_count": 128,
   "id": "5a2ac781",
   "metadata": {},
   "outputs": [
    {
     "data": {
      "text/html": [
       "<div>\n",
       "<style scoped>\n",
       "    .dataframe tbody tr th:only-of-type {\n",
       "        vertical-align: middle;\n",
       "    }\n",
       "\n",
       "    .dataframe tbody tr th {\n",
       "        vertical-align: top;\n",
       "    }\n",
       "\n",
       "    .dataframe thead th {\n",
       "        text-align: right;\n",
       "    }\n",
       "</style>\n",
       "<table border=\"1\" class=\"dataframe\">\n",
       "  <thead>\n",
       "    <tr style=\"text-align: right;\">\n",
       "      <th></th>\n",
       "      <th>subreddit</th>\n",
       "      <th>title</th>\n",
       "      <th>all</th>\n",
       "      <th>tokens</th>\n",
       "      <th>lems</th>\n",
       "      <th>porter_stems</th>\n",
       "      <th>snowball_stems</th>\n",
       "      <th>word_count</th>\n",
       "      <th>title_char_count</th>\n",
       "      <th>sentences</th>\n",
       "      <th>sentence_count</th>\n",
       "      <th>avg_word_length</th>\n",
       "      <th>avg_sentence_length</th>\n",
       "      <th>sentiment</th>\n",
       "    </tr>\n",
       "  </thead>\n",
       "  <tbody>\n",
       "    <tr>\n",
       "      <th>0</th>\n",
       "      <td>1</td>\n",
       "      <td>Looked up Luis Díaz's stats and Wiki..... Look...</td>\n",
       "      <td>thisisblank Looked up Luis Díaz's stats and Wi...</td>\n",
       "      <td>['Looked', 'up', 'Luis', \"Díaz's\", 'stats', 'a...</td>\n",
       "      <td>['Looked', 'up', 'Luis', \"Díaz's\", 'stats', 'a...</td>\n",
       "      <td>['look', 'up', 'lui', \"díaz'\", 'stat', 'and', ...</td>\n",
       "      <td>['look', 'up', 'lui', 'díaz', 'stat', 'and', '...</td>\n",
       "      <td>22</td>\n",
       "      <td>101</td>\n",
       "      <td>[\"Looked up Luis Díaz's stats and Wiki..... Lo...</td>\n",
       "      <td>2</td>\n",
       "      <td>4.590909</td>\n",
       "      <td>11.00</td>\n",
       "      <td>0.0000</td>\n",
       "    </tr>\n",
       "    <tr>\n",
       "      <th>1</th>\n",
       "      <td>1</td>\n",
       "      <td>Why No Support for Our Boys in Afcon? :(</td>\n",
       "      <td>[removed]Why No Support for Our Boys in Afcon? :(</td>\n",
       "      <td>['Why', 'No', 'Support', 'for', 'Our', 'Boys',...</td>\n",
       "      <td>['Why', 'No', 'Support', 'for', 'Our', 'Boys',...</td>\n",
       "      <td>['whi', 'no', 'support', 'for', 'our', 'boy', ...</td>\n",
       "      <td>['whi', 'no', 'support', 'for', 'our', 'boy', ...</td>\n",
       "      <td>9</td>\n",
       "      <td>32</td>\n",
       "      <td>['Why No Support for Our Boys in Afcon?', ':(']</td>\n",
       "      <td>2</td>\n",
       "      <td>3.555556</td>\n",
       "      <td>4.50</td>\n",
       "      <td>-0.3400</td>\n",
       "    </tr>\n",
       "    <tr>\n",
       "      <th>2</th>\n",
       "      <td>1</td>\n",
       "      <td>Most valuable left wingers in the world. Opini...</td>\n",
       "      <td>thisisblank Most valuable left wingers in the ...</td>\n",
       "      <td>['Most', 'valuable', 'left', 'wingers', 'in', ...</td>\n",
       "      <td>['Most', 'valuable', 'left', 'winger', 'in', '...</td>\n",
       "      <td>['most', 'valuabl', 'left', 'winger', 'in', 't...</td>\n",
       "      <td>['most', 'valuabl', 'left', 'winger', 'in', 't...</td>\n",
       "      <td>8</td>\n",
       "      <td>43</td>\n",
       "      <td>['Most valuable left wingers in the world.', '...</td>\n",
       "      <td>2</td>\n",
       "      <td>5.375000</td>\n",
       "      <td>4.00</td>\n",
       "      <td>0.5256</td>\n",
       "    </tr>\n",
       "    <tr>\n",
       "      <th>3</th>\n",
       "      <td>1</td>\n",
       "      <td>We have some really good dancers on this team.</td>\n",
       "      <td>thisisblank We have some really good dancers o...</td>\n",
       "      <td>['We', 'have', 'some', 'really', 'good', 'danc...</td>\n",
       "      <td>['We', 'have', 'some', 'really', 'good', 'danc...</td>\n",
       "      <td>['we', 'have', 'some', 'realli', 'good', 'danc...</td>\n",
       "      <td>['we', 'have', 'some', 'realli', 'good', 'danc...</td>\n",
       "      <td>9</td>\n",
       "      <td>38</td>\n",
       "      <td>['We have some really good dancers on this tea...</td>\n",
       "      <td>1</td>\n",
       "      <td>4.222222</td>\n",
       "      <td>9.00</td>\n",
       "      <td>0.4927</td>\n",
       "    </tr>\n",
       "    <tr>\n",
       "      <th>4</th>\n",
       "      <td>1</td>\n",
       "      <td>[Fabrizio Romano] Liverpool and Porto sources ...</td>\n",
       "      <td>thisisblank [Fabrizio Romano] Liverpool and Po...</td>\n",
       "      <td>['[Fabrizio', 'Romano]', 'Liverpool', 'and', '...</td>\n",
       "      <td>['[Fabrizio', 'Romano]', 'Liverpool', 'and', '...</td>\n",
       "      <td>['[fabrizio', 'romano]', 'liverpool', 'and', '...</td>\n",
       "      <td>['[fabrizio', 'romano]', 'liverpool', 'and', '...</td>\n",
       "      <td>47</td>\n",
       "      <td>244</td>\n",
       "      <td>['[Fabrizio Romano] Liverpool and Porto source...</td>\n",
       "      <td>4</td>\n",
       "      <td>5.191489</td>\n",
       "      <td>11.75</td>\n",
       "      <td>-0.6249</td>\n",
       "    </tr>\n",
       "  </tbody>\n",
       "</table>\n",
       "</div>"
      ],
      "text/plain": [
       "   subreddit                                              title  \\\n",
       "0          1  Looked up Luis Díaz's stats and Wiki..... Look...   \n",
       "1          1           Why No Support for Our Boys in Afcon? :(   \n",
       "2          1  Most valuable left wingers in the world. Opini...   \n",
       "3          1     We have some really good dancers on this team.   \n",
       "4          1  [Fabrizio Romano] Liverpool and Porto sources ...   \n",
       "\n",
       "                                                 all  \\\n",
       "0  thisisblank Looked up Luis Díaz's stats and Wi...   \n",
       "1  [removed]Why No Support for Our Boys in Afcon? :(   \n",
       "2  thisisblank Most valuable left wingers in the ...   \n",
       "3  thisisblank We have some really good dancers o...   \n",
       "4  thisisblank [Fabrizio Romano] Liverpool and Po...   \n",
       "\n",
       "                                              tokens  \\\n",
       "0  ['Looked', 'up', 'Luis', \"Díaz's\", 'stats', 'a...   \n",
       "1  ['Why', 'No', 'Support', 'for', 'Our', 'Boys',...   \n",
       "2  ['Most', 'valuable', 'left', 'wingers', 'in', ...   \n",
       "3  ['We', 'have', 'some', 'really', 'good', 'danc...   \n",
       "4  ['[Fabrizio', 'Romano]', 'Liverpool', 'and', '...   \n",
       "\n",
       "                                                lems  \\\n",
       "0  ['Looked', 'up', 'Luis', \"Díaz's\", 'stats', 'a...   \n",
       "1  ['Why', 'No', 'Support', 'for', 'Our', 'Boys',...   \n",
       "2  ['Most', 'valuable', 'left', 'winger', 'in', '...   \n",
       "3  ['We', 'have', 'some', 'really', 'good', 'danc...   \n",
       "4  ['[Fabrizio', 'Romano]', 'Liverpool', 'and', '...   \n",
       "\n",
       "                                        porter_stems  \\\n",
       "0  ['look', 'up', 'lui', \"díaz'\", 'stat', 'and', ...   \n",
       "1  ['whi', 'no', 'support', 'for', 'our', 'boy', ...   \n",
       "2  ['most', 'valuabl', 'left', 'winger', 'in', 't...   \n",
       "3  ['we', 'have', 'some', 'realli', 'good', 'danc...   \n",
       "4  ['[fabrizio', 'romano]', 'liverpool', 'and', '...   \n",
       "\n",
       "                                      snowball_stems  word_count  \\\n",
       "0  ['look', 'up', 'lui', 'díaz', 'stat', 'and', '...          22   \n",
       "1  ['whi', 'no', 'support', 'for', 'our', 'boy', ...           9   \n",
       "2  ['most', 'valuabl', 'left', 'winger', 'in', 't...           8   \n",
       "3  ['we', 'have', 'some', 'realli', 'good', 'danc...           9   \n",
       "4  ['[fabrizio', 'romano]', 'liverpool', 'and', '...          47   \n",
       "\n",
       "   title_char_count                                          sentences  \\\n",
       "0               101  [\"Looked up Luis Díaz's stats and Wiki..... Lo...   \n",
       "1                32    ['Why No Support for Our Boys in Afcon?', ':(']   \n",
       "2                43  ['Most valuable left wingers in the world.', '...   \n",
       "3                38  ['We have some really good dancers on this tea...   \n",
       "4               244  ['[Fabrizio Romano] Liverpool and Porto source...   \n",
       "\n",
       "   sentence_count  avg_word_length  avg_sentence_length  sentiment  \n",
       "0               2         4.590909                11.00     0.0000  \n",
       "1               2         3.555556                 4.50    -0.3400  \n",
       "2               2         5.375000                 4.00     0.5256  \n",
       "3               1         4.222222                 9.00     0.4927  \n",
       "4               4         5.191489                11.75    -0.6249  "
      ]
     },
     "execution_count": 128,
     "metadata": {},
     "output_type": "execute_result"
    }
   ],
   "source": [
    "submissions_original.head()"
   ]
  },
  {
   "cell_type": "code",
   "execution_count": 129,
   "id": "1798a14d",
   "metadata": {
    "scrolled": false
   },
   "outputs": [
    {
     "data": {
      "text/plain": [
       "subreddit              0\n",
       "title                  0\n",
       "all                    0\n",
       "tokens                 0\n",
       "lems                   0\n",
       "porter_stems           0\n",
       "snowball_stems         0\n",
       "word_count             0\n",
       "title_char_count       0\n",
       "sentences              0\n",
       "sentence_count         0\n",
       "avg_word_length        0\n",
       "avg_sentence_length    0\n",
       "sentiment              0\n",
       "dtype: int64"
      ]
     },
     "execution_count": 129,
     "metadata": {},
     "output_type": "execute_result"
    }
   ],
   "source": [
    "submissions_original.isnull().sum()"
   ]
  },
  {
   "cell_type": "code",
   "execution_count": 130,
   "id": "08d6335f",
   "metadata": {},
   "outputs": [
    {
     "data": {
      "text/plain": [
       "(57908, 14)"
      ]
     },
     "execution_count": 130,
     "metadata": {},
     "output_type": "execute_result"
    }
   ],
   "source": [
    "submissions_original.shape"
   ]
  },
  {
   "cell_type": "code",
   "execution_count": 131,
   "id": "66df49e5",
   "metadata": {},
   "outputs": [
    {
     "data": {
      "text/html": [
       "<div>\n",
       "<style scoped>\n",
       "    .dataframe tbody tr th:only-of-type {\n",
       "        vertical-align: middle;\n",
       "    }\n",
       "\n",
       "    .dataframe tbody tr th {\n",
       "        vertical-align: top;\n",
       "    }\n",
       "\n",
       "    .dataframe thead th {\n",
       "        text-align: right;\n",
       "    }\n",
       "</style>\n",
       "<table border=\"1\" class=\"dataframe\">\n",
       "  <thead>\n",
       "    <tr style=\"text-align: right;\">\n",
       "      <th></th>\n",
       "      <th>subreddit</th>\n",
       "      <th>title</th>\n",
       "      <th>all</th>\n",
       "      <th>tokens</th>\n",
       "      <th>lems</th>\n",
       "      <th>porter_stems</th>\n",
       "      <th>snowball_stems</th>\n",
       "      <th>word_count</th>\n",
       "      <th>title_char_count</th>\n",
       "      <th>sentences</th>\n",
       "      <th>sentence_count</th>\n",
       "      <th>avg_word_length</th>\n",
       "      <th>avg_sentence_length</th>\n",
       "      <th>sentiment</th>\n",
       "    </tr>\n",
       "  </thead>\n",
       "  <tbody>\n",
       "    <tr>\n",
       "      <th>0</th>\n",
       "      <td>1</td>\n",
       "      <td>Looked up Luis Díaz's stats and Wiki..... Look...</td>\n",
       "      <td>thisisblank Looked up Luis Díaz's stats and Wi...</td>\n",
       "      <td>['Looked', 'up', 'Luis', \"Díaz's\", 'stats', 'a...</td>\n",
       "      <td>['Looked', 'up', 'Luis', \"Díaz's\", 'stats', 'a...</td>\n",
       "      <td>['look', 'up', 'lui', \"díaz'\", 'stat', 'and', ...</td>\n",
       "      <td>['look', 'up', 'lui', 'díaz', 'stat', 'and', '...</td>\n",
       "      <td>22</td>\n",
       "      <td>101</td>\n",
       "      <td>[\"Looked up Luis Díaz's stats and Wiki..... Lo...</td>\n",
       "      <td>2</td>\n",
       "      <td>4.590909</td>\n",
       "      <td>11.00</td>\n",
       "      <td>0.0000</td>\n",
       "    </tr>\n",
       "    <tr>\n",
       "      <th>1</th>\n",
       "      <td>1</td>\n",
       "      <td>Why No Support for Our Boys in Afcon? :(</td>\n",
       "      <td>[removed]Why No Support for Our Boys in Afcon? :(</td>\n",
       "      <td>['Why', 'No', 'Support', 'for', 'Our', 'Boys',...</td>\n",
       "      <td>['Why', 'No', 'Support', 'for', 'Our', 'Boys',...</td>\n",
       "      <td>['whi', 'no', 'support', 'for', 'our', 'boy', ...</td>\n",
       "      <td>['whi', 'no', 'support', 'for', 'our', 'boy', ...</td>\n",
       "      <td>9</td>\n",
       "      <td>32</td>\n",
       "      <td>['Why No Support for Our Boys in Afcon?', ':(']</td>\n",
       "      <td>2</td>\n",
       "      <td>3.555556</td>\n",
       "      <td>4.50</td>\n",
       "      <td>-0.3400</td>\n",
       "    </tr>\n",
       "    <tr>\n",
       "      <th>2</th>\n",
       "      <td>1</td>\n",
       "      <td>Most valuable left wingers in the world. Opini...</td>\n",
       "      <td>thisisblank Most valuable left wingers in the ...</td>\n",
       "      <td>['Most', 'valuable', 'left', 'wingers', 'in', ...</td>\n",
       "      <td>['Most', 'valuable', 'left', 'winger', 'in', '...</td>\n",
       "      <td>['most', 'valuabl', 'left', 'winger', 'in', 't...</td>\n",
       "      <td>['most', 'valuabl', 'left', 'winger', 'in', 't...</td>\n",
       "      <td>8</td>\n",
       "      <td>43</td>\n",
       "      <td>['Most valuable left wingers in the world.', '...</td>\n",
       "      <td>2</td>\n",
       "      <td>5.375000</td>\n",
       "      <td>4.00</td>\n",
       "      <td>0.5256</td>\n",
       "    </tr>\n",
       "    <tr>\n",
       "      <th>3</th>\n",
       "      <td>1</td>\n",
       "      <td>We have some really good dancers on this team.</td>\n",
       "      <td>thisisblank We have some really good dancers o...</td>\n",
       "      <td>['We', 'have', 'some', 'really', 'good', 'danc...</td>\n",
       "      <td>['We', 'have', 'some', 'really', 'good', 'danc...</td>\n",
       "      <td>['we', 'have', 'some', 'realli', 'good', 'danc...</td>\n",
       "      <td>['we', 'have', 'some', 'realli', 'good', 'danc...</td>\n",
       "      <td>9</td>\n",
       "      <td>38</td>\n",
       "      <td>['We have some really good dancers on this tea...</td>\n",
       "      <td>1</td>\n",
       "      <td>4.222222</td>\n",
       "      <td>9.00</td>\n",
       "      <td>0.4927</td>\n",
       "    </tr>\n",
       "    <tr>\n",
       "      <th>4</th>\n",
       "      <td>1</td>\n",
       "      <td>[Fabrizio Romano] Liverpool and Porto sources ...</td>\n",
       "      <td>thisisblank [Fabrizio Romano] Liverpool and Po...</td>\n",
       "      <td>['[Fabrizio', 'Romano]', 'Liverpool', 'and', '...</td>\n",
       "      <td>['[Fabrizio', 'Romano]', 'Liverpool', 'and', '...</td>\n",
       "      <td>['[fabrizio', 'romano]', 'liverpool', 'and', '...</td>\n",
       "      <td>['[fabrizio', 'romano]', 'liverpool', 'and', '...</td>\n",
       "      <td>47</td>\n",
       "      <td>244</td>\n",
       "      <td>['[Fabrizio Romano] Liverpool and Porto source...</td>\n",
       "      <td>4</td>\n",
       "      <td>5.191489</td>\n",
       "      <td>11.75</td>\n",
       "      <td>-0.6249</td>\n",
       "    </tr>\n",
       "    <tr>\n",
       "      <th>...</th>\n",
       "      <td>...</td>\n",
       "      <td>...</td>\n",
       "      <td>...</td>\n",
       "      <td>...</td>\n",
       "      <td>...</td>\n",
       "      <td>...</td>\n",
       "      <td>...</td>\n",
       "      <td>...</td>\n",
       "      <td>...</td>\n",
       "      <td>...</td>\n",
       "      <td>...</td>\n",
       "      <td>...</td>\n",
       "      <td>...</td>\n",
       "      <td>...</td>\n",
       "    </tr>\n",
       "    <tr>\n",
       "      <th>57903</th>\n",
       "      <td>0</td>\n",
       "      <td>Everton Boosted as Inter Reportedly Look to Se...</td>\n",
       "      <td>thisisblank Everton Boosted as Inter Reportedl...</td>\n",
       "      <td>['Everton', 'Boosted', 'as', 'Inter', 'Reporte...</td>\n",
       "      <td>['Everton', 'Boosted', 'a', 'Inter', 'Reported...</td>\n",
       "      <td>['everton', 'boost', 'as', 'inter', 'reportedl...</td>\n",
       "      <td>['everton', 'boost', 'as', 'inter', 'report', ...</td>\n",
       "      <td>12</td>\n",
       "      <td>65</td>\n",
       "      <td>['Everton Boosted as Inter Reportedly Look to ...</td>\n",
       "      <td>1</td>\n",
       "      <td>5.416667</td>\n",
       "      <td>12.00</td>\n",
       "      <td>0.3612</td>\n",
       "    </tr>\n",
       "    <tr>\n",
       "      <th>57904</th>\n",
       "      <td>0</td>\n",
       "      <td>Everton-Chelsea rating results</td>\n",
       "      <td>I have a feeling this is going to illicit a fe...</td>\n",
       "      <td>['Everton-Chelsea', 'rating', 'results']</td>\n",
       "      <td>['Everton-Chelsea', 'rating', 'result']</td>\n",
       "      <td>['everton-chelsea', 'rate', 'result']</td>\n",
       "      <td>['everton-chelsea', 'rate', 'result']</td>\n",
       "      <td>3</td>\n",
       "      <td>28</td>\n",
       "      <td>['Everton-Chelsea rating results']</td>\n",
       "      <td>1</td>\n",
       "      <td>9.333333</td>\n",
       "      <td>3.00</td>\n",
       "      <td>0.0000</td>\n",
       "    </tr>\n",
       "    <tr>\n",
       "      <th>57905</th>\n",
       "      <td>0</td>\n",
       "      <td>I loved the picture from that Guardian article...</td>\n",
       "      <td>thisisblank I loved the picture from that Guar...</td>\n",
       "      <td>['I', 'loved', 'the', 'picture', 'from', 'that...</td>\n",
       "      <td>['I', 'loved', 'the', 'picture', 'from', 'that...</td>\n",
       "      <td>['i', 'love', 'the', 'pictur', 'from', 'that',...</td>\n",
       "      <td>['i', 'love', 'the', 'pictur', 'from', 'that',...</td>\n",
       "      <td>20</td>\n",
       "      <td>83</td>\n",
       "      <td>['I loved the picture from that Guardian artic...</td>\n",
       "      <td>1</td>\n",
       "      <td>4.150000</td>\n",
       "      <td>20.00</td>\n",
       "      <td>0.5994</td>\n",
       "    </tr>\n",
       "    <tr>\n",
       "      <th>57906</th>\n",
       "      <td>0</td>\n",
       "      <td>Blues Brothers: Phil Jagielka v Leighton Baines</td>\n",
       "      <td>thisisblank Blues Brothers: Phil Jagielka v Le...</td>\n",
       "      <td>['Blues', 'Brothers:', 'Phil', 'Jagielka', 'v'...</td>\n",
       "      <td>['Blues', 'Brothers:', 'Phil', 'Jagielka', 'v'...</td>\n",
       "      <td>['blue', 'brothers:', 'phil', 'jagielka', 'v',...</td>\n",
       "      <td>['blue', 'brothers:', 'phil', 'jagielka', 'v',...</td>\n",
       "      <td>7</td>\n",
       "      <td>41</td>\n",
       "      <td>['Blues Brothers: Phil Jagielka v Leighton Bai...</td>\n",
       "      <td>1</td>\n",
       "      <td>5.857143</td>\n",
       "      <td>7.00</td>\n",
       "      <td>0.0000</td>\n",
       "    </tr>\n",
       "    <tr>\n",
       "      <th>57907</th>\n",
       "      <td>0</td>\n",
       "      <td>Everton to reward defender Brendan Galloway wi...</td>\n",
       "      <td>thisisblank Everton to reward defender Brendan...</td>\n",
       "      <td>['Everton', 'to', 'reward', 'defender', 'Brend...</td>\n",
       "      <td>['Everton', 'to', 'reward', 'defender', 'Brend...</td>\n",
       "      <td>['everton', 'to', 'reward', 'defend', 'brendan...</td>\n",
       "      <td>['everton', 'to', 'reward', 'defend', 'brendan...</td>\n",
       "      <td>9</td>\n",
       "      <td>53</td>\n",
       "      <td>['Everton to reward defender Brendan Galloway ...</td>\n",
       "      <td>1</td>\n",
       "      <td>5.888889</td>\n",
       "      <td>9.00</td>\n",
       "      <td>0.6249</td>\n",
       "    </tr>\n",
       "  </tbody>\n",
       "</table>\n",
       "<p>57908 rows × 14 columns</p>\n",
       "</div>"
      ],
      "text/plain": [
       "       subreddit                                              title  \\\n",
       "0              1  Looked up Luis Díaz's stats and Wiki..... Look...   \n",
       "1              1           Why No Support for Our Boys in Afcon? :(   \n",
       "2              1  Most valuable left wingers in the world. Opini...   \n",
       "3              1     We have some really good dancers on this team.   \n",
       "4              1  [Fabrizio Romano] Liverpool and Porto sources ...   \n",
       "...          ...                                                ...   \n",
       "57903          0  Everton Boosted as Inter Reportedly Look to Se...   \n",
       "57904          0                     Everton-Chelsea rating results   \n",
       "57905          0  I loved the picture from that Guardian article...   \n",
       "57906          0    Blues Brothers: Phil Jagielka v Leighton Baines   \n",
       "57907          0  Everton to reward defender Brendan Galloway wi...   \n",
       "\n",
       "                                                     all  \\\n",
       "0      thisisblank Looked up Luis Díaz's stats and Wi...   \n",
       "1      [removed]Why No Support for Our Boys in Afcon? :(   \n",
       "2      thisisblank Most valuable left wingers in the ...   \n",
       "3      thisisblank We have some really good dancers o...   \n",
       "4      thisisblank [Fabrizio Romano] Liverpool and Po...   \n",
       "...                                                  ...   \n",
       "57903  thisisblank Everton Boosted as Inter Reportedl...   \n",
       "57904  I have a feeling this is going to illicit a fe...   \n",
       "57905  thisisblank I loved the picture from that Guar...   \n",
       "57906  thisisblank Blues Brothers: Phil Jagielka v Le...   \n",
       "57907  thisisblank Everton to reward defender Brendan...   \n",
       "\n",
       "                                                  tokens  \\\n",
       "0      ['Looked', 'up', 'Luis', \"Díaz's\", 'stats', 'a...   \n",
       "1      ['Why', 'No', 'Support', 'for', 'Our', 'Boys',...   \n",
       "2      ['Most', 'valuable', 'left', 'wingers', 'in', ...   \n",
       "3      ['We', 'have', 'some', 'really', 'good', 'danc...   \n",
       "4      ['[Fabrizio', 'Romano]', 'Liverpool', 'and', '...   \n",
       "...                                                  ...   \n",
       "57903  ['Everton', 'Boosted', 'as', 'Inter', 'Reporte...   \n",
       "57904           ['Everton-Chelsea', 'rating', 'results']   \n",
       "57905  ['I', 'loved', 'the', 'picture', 'from', 'that...   \n",
       "57906  ['Blues', 'Brothers:', 'Phil', 'Jagielka', 'v'...   \n",
       "57907  ['Everton', 'to', 'reward', 'defender', 'Brend...   \n",
       "\n",
       "                                                    lems  \\\n",
       "0      ['Looked', 'up', 'Luis', \"Díaz's\", 'stats', 'a...   \n",
       "1      ['Why', 'No', 'Support', 'for', 'Our', 'Boys',...   \n",
       "2      ['Most', 'valuable', 'left', 'winger', 'in', '...   \n",
       "3      ['We', 'have', 'some', 'really', 'good', 'danc...   \n",
       "4      ['[Fabrizio', 'Romano]', 'Liverpool', 'and', '...   \n",
       "...                                                  ...   \n",
       "57903  ['Everton', 'Boosted', 'a', 'Inter', 'Reported...   \n",
       "57904            ['Everton-Chelsea', 'rating', 'result']   \n",
       "57905  ['I', 'loved', 'the', 'picture', 'from', 'that...   \n",
       "57906  ['Blues', 'Brothers:', 'Phil', 'Jagielka', 'v'...   \n",
       "57907  ['Everton', 'to', 'reward', 'defender', 'Brend...   \n",
       "\n",
       "                                            porter_stems  \\\n",
       "0      ['look', 'up', 'lui', \"díaz'\", 'stat', 'and', ...   \n",
       "1      ['whi', 'no', 'support', 'for', 'our', 'boy', ...   \n",
       "2      ['most', 'valuabl', 'left', 'winger', 'in', 't...   \n",
       "3      ['we', 'have', 'some', 'realli', 'good', 'danc...   \n",
       "4      ['[fabrizio', 'romano]', 'liverpool', 'and', '...   \n",
       "...                                                  ...   \n",
       "57903  ['everton', 'boost', 'as', 'inter', 'reportedl...   \n",
       "57904              ['everton-chelsea', 'rate', 'result']   \n",
       "57905  ['i', 'love', 'the', 'pictur', 'from', 'that',...   \n",
       "57906  ['blue', 'brothers:', 'phil', 'jagielka', 'v',...   \n",
       "57907  ['everton', 'to', 'reward', 'defend', 'brendan...   \n",
       "\n",
       "                                          snowball_stems  word_count  \\\n",
       "0      ['look', 'up', 'lui', 'díaz', 'stat', 'and', '...          22   \n",
       "1      ['whi', 'no', 'support', 'for', 'our', 'boy', ...           9   \n",
       "2      ['most', 'valuabl', 'left', 'winger', 'in', 't...           8   \n",
       "3      ['we', 'have', 'some', 'realli', 'good', 'danc...           9   \n",
       "4      ['[fabrizio', 'romano]', 'liverpool', 'and', '...          47   \n",
       "...                                                  ...         ...   \n",
       "57903  ['everton', 'boost', 'as', 'inter', 'report', ...          12   \n",
       "57904              ['everton-chelsea', 'rate', 'result']           3   \n",
       "57905  ['i', 'love', 'the', 'pictur', 'from', 'that',...          20   \n",
       "57906  ['blue', 'brothers:', 'phil', 'jagielka', 'v',...           7   \n",
       "57907  ['everton', 'to', 'reward', 'defend', 'brendan...           9   \n",
       "\n",
       "       title_char_count                                          sentences  \\\n",
       "0                   101  [\"Looked up Luis Díaz's stats and Wiki..... Lo...   \n",
       "1                    32    ['Why No Support for Our Boys in Afcon?', ':(']   \n",
       "2                    43  ['Most valuable left wingers in the world.', '...   \n",
       "3                    38  ['We have some really good dancers on this tea...   \n",
       "4                   244  ['[Fabrizio Romano] Liverpool and Porto source...   \n",
       "...                 ...                                                ...   \n",
       "57903                65  ['Everton Boosted as Inter Reportedly Look to ...   \n",
       "57904                28                 ['Everton-Chelsea rating results']   \n",
       "57905                83  ['I loved the picture from that Guardian artic...   \n",
       "57906                41  ['Blues Brothers: Phil Jagielka v Leighton Bai...   \n",
       "57907                53  ['Everton to reward defender Brendan Galloway ...   \n",
       "\n",
       "       sentence_count  avg_word_length  avg_sentence_length  sentiment  \n",
       "0                   2         4.590909                11.00     0.0000  \n",
       "1                   2         3.555556                 4.50    -0.3400  \n",
       "2                   2         5.375000                 4.00     0.5256  \n",
       "3                   1         4.222222                 9.00     0.4927  \n",
       "4                   4         5.191489                11.75    -0.6249  \n",
       "...               ...              ...                  ...        ...  \n",
       "57903               1         5.416667                12.00     0.3612  \n",
       "57904               1         9.333333                 3.00     0.0000  \n",
       "57905               1         4.150000                20.00     0.5994  \n",
       "57906               1         5.857143                 7.00     0.0000  \n",
       "57907               1         5.888889                 9.00     0.6249  \n",
       "\n",
       "[57908 rows x 14 columns]"
      ]
     },
     "execution_count": 131,
     "metadata": {},
     "output_type": "execute_result"
    }
   ],
   "source": [
    "submissions_original.dropna()"
   ]
  },
  {
   "cell_type": "code",
   "execution_count": 132,
   "id": "0ae31320",
   "metadata": {},
   "outputs": [],
   "source": [
    "X = submissions_original['title']\n",
    "y = submissions_original['subreddit']"
   ]
  },
  {
   "cell_type": "code",
   "execution_count": 133,
   "id": "38570a06",
   "metadata": {},
   "outputs": [
    {
     "data": {
      "text/plain": [
       "1    0.500967\n",
       "0    0.499033\n",
       "Name: subreddit, dtype: float64"
      ]
     },
     "execution_count": 133,
     "metadata": {},
     "output_type": "execute_result"
    }
   ],
   "source": [
    "y.value_counts(normalize=True)"
   ]
  },
  {
   "cell_type": "code",
   "execution_count": 134,
   "id": "3065b25c",
   "metadata": {},
   "outputs": [],
   "source": [
    "X_train, X_test, y_train, y_test = train_test_split(X,\n",
    "                                                    y,\n",
    "                                                    test_size=0.20,\n",
    "                                                    stratify=y,#stratify = y b/c the data = imbalanced\n",
    "                                                    random_state=42)"
   ]
  },
  {
   "cell_type": "code",
   "execution_count": 139,
   "id": "0f380a81",
   "metadata": {},
   "outputs": [],
   "source": [
    "pipe_svc = Pipeline([\n",
    "    ('tvec', TfidfVectorizer()),\n",
    "    ('svc', SVC())\n",
    "])"
   ]
  },
  {
   "cell_type": "code",
   "execution_count": 140,
   "id": "6d039a31",
   "metadata": {},
   "outputs": [],
   "source": [
    "pipe_params_svc = {\n",
    "    'tvec__max_features' : [30_000],\n",
    "    'tvec__stop_words' : ['english'],\n",
    "    'svc__C' : [0.7],\n",
    "    'svc__kernel' :['rbf']\n",
    "}"
   ]
  },
  {
   "cell_type": "code",
   "execution_count": 141,
   "id": "9b72ce1d",
   "metadata": {},
   "outputs": [],
   "source": [
    "gs_svc = GridSearchCV(pipe_svc, param_grid=pipe_params_svc, cv=3, verbose = 3)"
   ]
  },
  {
   "cell_type": "code",
   "execution_count": 142,
   "id": "b3726771",
   "metadata": {},
   "outputs": [
    {
     "name": "stdout",
     "output_type": "stream",
     "text": [
      "Fitting 3 folds for each of 1 candidates, totalling 3 fits\n",
      "[CV 1/3] END svc__C=0.7, svc__kernel=rbf, tvec__max_features=30000, tvec__stop_words=english; total time= 3.6min\n",
      "[CV 2/3] END svc__C=0.7, svc__kernel=rbf, tvec__max_features=30000, tvec__stop_words=english; total time= 2.8min\n",
      "[CV 3/3] END svc__C=0.7, svc__kernel=rbf, tvec__max_features=30000, tvec__stop_words=english; total time= 2.7min\n"
     ]
    },
    {
     "data": {
      "text/plain": [
       "GridSearchCV(cv=3,\n",
       "             estimator=Pipeline(steps=[('tvec', TfidfVectorizer()),\n",
       "                                       ('svc', SVC())]),\n",
       "             param_grid={'svc__C': [0.7], 'svc__kernel': ['rbf'],\n",
       "                         'tvec__max_features': [30000],\n",
       "                         'tvec__stop_words': ['english']},\n",
       "             verbose=3)"
      ]
     },
     "execution_count": 142,
     "metadata": {},
     "output_type": "execute_result"
    }
   ],
   "source": [
    "gs_svc.fit(X_train, y_train)"
   ]
  },
  {
   "cell_type": "code",
   "execution_count": 143,
   "id": "7e1faf2b",
   "metadata": {
    "scrolled": false
   },
   "outputs": [
    {
     "data": {
      "text/plain": [
       "Pipeline(steps=[('tvec',\n",
       "                 TfidfVectorizer(max_features=30000, stop_words='english')),\n",
       "                ('svc', SVC(C=0.7))])"
      ]
     },
     "execution_count": 143,
     "metadata": {},
     "output_type": "execute_result"
    }
   ],
   "source": [
    "gs_svc.best_estimator_"
   ]
  },
  {
   "cell_type": "code",
   "execution_count": 144,
   "id": "6bf6e631",
   "metadata": {},
   "outputs": [],
   "source": [
    "gs_model_svc = gs_svc.best_estimator_"
   ]
  },
  {
   "cell_type": "code",
   "execution_count": 146,
   "id": "4cb1d11d",
   "metadata": {},
   "outputs": [
    {
     "data": {
      "text/plain": [
       "0.9592885204852567"
      ]
     },
     "execution_count": 146,
     "metadata": {},
     "output_type": "execute_result"
    }
   ],
   "source": [
    "gs_model_svc.score(X_train, y_train)"
   ]
  },
  {
   "cell_type": "code",
   "execution_count": 147,
   "id": "3998e10e",
   "metadata": {},
   "outputs": [
    {
     "data": {
      "text/plain": [
       "0.860386807114488"
      ]
     },
     "execution_count": 147,
     "metadata": {},
     "output_type": "execute_result"
    }
   ],
   "source": [
    "gs_model_svc.score(X_test, y_test)"
   ]
  },
  {
   "cell_type": "code",
   "execution_count": 148,
   "id": "5a40c7cd",
   "metadata": {},
   "outputs": [
    {
     "name": "stdout",
     "output_type": "stream",
     "text": [
      "Accuracy Score: 0.860386807114488\n"
     ]
    },
    {
     "data": {
      "text/html": [
       "<div>\n",
       "<style scoped>\n",
       "    .dataframe tbody tr th:only-of-type {\n",
       "        vertical-align: middle;\n",
       "    }\n",
       "\n",
       "    .dataframe tbody tr th {\n",
       "        vertical-align: top;\n",
       "    }\n",
       "\n",
       "    .dataframe thead th {\n",
       "        text-align: right;\n",
       "    }\n",
       "</style>\n",
       "<table border=\"1\" class=\"dataframe\">\n",
       "  <thead>\n",
       "    <tr style=\"text-align: right;\">\n",
       "      <th></th>\n",
       "      <th>Predicted Liverpool</th>\n",
       "      <th>Predicted Everton</th>\n",
       "    </tr>\n",
       "  </thead>\n",
       "  <tbody>\n",
       "    <tr>\n",
       "      <th>Actual Liverpool</th>\n",
       "      <td>4910</td>\n",
       "      <td>870</td>\n",
       "    </tr>\n",
       "    <tr>\n",
       "      <th>Actual Everton</th>\n",
       "      <td>747</td>\n",
       "      <td>5055</td>\n",
       "    </tr>\n",
       "  </tbody>\n",
       "</table>\n",
       "</div>"
      ],
      "text/plain": [
       "                  Predicted Liverpool  Predicted Everton\n",
       "Actual Liverpool                 4910                870\n",
       "Actual Everton                    747               5055"
      ]
     },
     "execution_count": 148,
     "metadata": {},
     "output_type": "execute_result"
    }
   ],
   "source": [
    "def conmat(y_test, preds, classes):\n",
    "\n",
    "    conmat = confusion_matrix(y_test, preds)\n",
    "    print(f'Accuracy Score: {accuracy_score(y_test, preds)}')\n",
    "    return pd.DataFrame(conmat, columns=['Predicted ' +class_ for class_ in classes], \\\n",
    "                index=['Actual '+ class_ for class_ in classes])\n",
    "\n",
    "preds = gs_svc.best_estimator_.predict(X_test)\n",
    "\n",
    "conmat(y_test, preds, ['Liverpool', 'Everton'])"
   ]
  },
  {
   "cell_type": "code",
   "execution_count": 150,
   "id": "7ea9975a",
   "metadata": {},
   "outputs": [],
   "source": [
    "# Get predictions\n",
    "preds = gs_model_svc.predict(X_test)\n",
    "# Save confusion matrix values\n",
    "tn, fp, fn, tp = confusion_matrix(y_test, preds).ravel()"
   ]
  },
  {
   "cell_type": "code",
   "execution_count": 153,
   "id": "d41a4baa",
   "metadata": {},
   "outputs": [
    {
     "data": {
      "image/png": "[encoded data removed]",
      "text/plain": [
       "<Figure size 432x288 with 2 Axes>"
      ]
     },
     "metadata": {
      "needs_background": "light"
     },
     "output_type": "display_data"
    }
   ],
   "source": [
    "# View confusion matrix\n",
    "plot_confusion_matrix(gs_model_svc, X_test,y_test,cmap='Reds',values_format='d');"
   ]
  },
  {
   "cell_type": "code",
   "execution_count": 151,
   "id": "f879a25d",
   "metadata": {},
   "outputs": [
    {
     "name": "stdout",
     "output_type": "stream",
     "text": [
      "Recall: 0.87\n",
      "Precision: 0.85\n",
      "Specificity: 0.85\n",
      "F1_Score: 0.86\n"
     ]
    }
   ],
   "source": [
    "#Recall Rate or Sensitivity\n",
    "#Percentage of true positives gotten correct\n",
    "recall = tp/(tp + fn)\n",
    "print(f'Recall: {round(recall,2)}')\n",
    "\n",
    "#Precision\n",
    "#Poportion of correct that are actually correct\n",
    "precision = tp / (tp+fp)\n",
    "print(f'Precision: {round(precision,2)}')\n",
    "\n",
    " # Calculate the specificity TRUE NEG RATE\n",
    "#percentage of true negatives gotten correct\n",
    "specificity = tn/ (tn+fp)\n",
    "print(f'Specificity: {round(specificity,2)}')\n",
    "\n",
    "#the mean of precision and recall.\n",
    "#mean of proportion that are predicted actually positive correctly and actually negative correctly\n",
    "f1_score = (2*precision*recall)/ (precision + recall)\n",
    "print(f'F1_Score: {round(f1_score,2)}')"
   ]
  },
  {
   "cell_type": "code",
   "execution_count": null,
   "id": "fbcdce9f",
   "metadata": {},
   "outputs": [],
   "source": []
  }
 ],
 "metadata": {
  "kernelspec": {
   "display_name": "Python 3",
   "language": "python",
   "name": "python3"
  },
  "language_info": {
   "codemirror_mode": {
    "name": "ipython",
    "version": 3
   },
   "file_extension": ".py",
   "mimetype": "text/x-python",
   "name": "python",
   "nbconvert_exporter": "python",
   "pygments_lexer": "ipython3",
   "version": "3.8.8"
  }
 },
 "nbformat": 4,
 "nbformat_minor": 5
}
