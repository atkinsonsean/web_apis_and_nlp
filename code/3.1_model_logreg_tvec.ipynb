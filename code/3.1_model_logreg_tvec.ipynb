{
 "cells": [
  {
   "cell_type": "code",
   "execution_count": 388,
   "id": "b25fc643",
   "metadata": {},
   "outputs": [],
   "source": [
    "import pandas as pd\n",
    "from sklearn.pipeline import Pipeline, FeatureUnion\n",
    "from sklearn.model_selection import train_test_split, GridSearchCV\n",
    "from sklearn.metrics import confusion_matrix, accuracy_score, classification_report\n",
    "from sklearn.feature_extraction.text import CountVectorizer, TfidfVectorizer\n",
    "from sklearn.tree import DecisionTreeClassifier\n",
    "from sklearn.model_selection import train_test_split, GridSearchCV\n",
    "from sklearn.ensemble import RandomForestClassifier\n",
    "from sklearn.linear_model import LogisticRegression\n",
    "from sklearn.preprocessing import StandardScaler, FunctionTransformer\n",
    "from sklearn.pipeline import Pipeline\n",
    "from sklearn.metrics import confusion_matrix, plot_confusion_matrix, accuracy_score, classification_report\n",
    "\n",
    "%config InlineBackend.figure_format = 'retina'\n"
   ]
  },
  {
   "cell_type": "code",
   "execution_count": 390,
   "id": "3cec48c3",
   "metadata": {},
   "outputs": [],
   "source": [
    "submissions_original = pd.read_csv('../data/submissions_no_sanitize_blank.csv').drop(['Unnamed: 0', 'selftext'], axis=1)"
   ]
  },
  {
   "cell_type": "code",
   "execution_count": 392,
   "id": "5a2ac781",
   "metadata": {},
   "outputs": [
    {
     "data": {
      "text/html": [
       "<div>\n",
       "<style scoped>\n",
       "    .dataframe tbody tr th:only-of-type {\n",
       "        vertical-align: middle;\n",
       "    }\n",
       "\n",
       "    .dataframe tbody tr th {\n",
       "        vertical-align: top;\n",
       "    }\n",
       "\n",
       "    .dataframe thead th {\n",
       "        text-align: right;\n",
       "    }\n",
       "</style>\n",
       "<table border=\"1\" class=\"dataframe\">\n",
       "  <thead>\n",
       "    <tr style=\"text-align: right;\">\n",
       "      <th></th>\n",
       "      <th>subreddit</th>\n",
       "      <th>title</th>\n",
       "      <th>all</th>\n",
       "      <th>tokens</th>\n",
       "      <th>lems</th>\n",
       "      <th>porter_stems</th>\n",
       "      <th>snowball_stems</th>\n",
       "      <th>word_count</th>\n",
       "      <th>title_char_count</th>\n",
       "      <th>sentences</th>\n",
       "      <th>sentence_count</th>\n",
       "      <th>avg_word_length</th>\n",
       "      <th>avg_sentence_length</th>\n",
       "      <th>sentiment</th>\n",
       "    </tr>\n",
       "  </thead>\n",
       "  <tbody>\n",
       "    <tr>\n",
       "      <th>0</th>\n",
       "      <td>1</td>\n",
       "      <td>Looked up Luis Díaz's stats and Wiki..... Look...</td>\n",
       "      <td>thisisblank Looked up Luis Díaz's stats and Wi...</td>\n",
       "      <td>['Looked', 'up', 'Luis', \"Díaz's\", 'stats', 'a...</td>\n",
       "      <td>['Looked', 'up', 'Luis', \"Díaz's\", 'stats', 'a...</td>\n",
       "      <td>['look', 'up', 'lui', \"díaz'\", 'stat', 'and', ...</td>\n",
       "      <td>['look', 'up', 'lui', 'díaz', 'stat', 'and', '...</td>\n",
       "      <td>22</td>\n",
       "      <td>101</td>\n",
       "      <td>[\"Looked up Luis Díaz's stats and Wiki..... Lo...</td>\n",
       "      <td>2</td>\n",
       "      <td>4.590909</td>\n",
       "      <td>11.00</td>\n",
       "      <td>0.0000</td>\n",
       "    </tr>\n",
       "    <tr>\n",
       "      <th>1</th>\n",
       "      <td>1</td>\n",
       "      <td>Why No Support for Our Boys in Afcon? :(</td>\n",
       "      <td>[removed]Why No Support for Our Boys in Afcon? :(</td>\n",
       "      <td>['Why', 'No', 'Support', 'for', 'Our', 'Boys',...</td>\n",
       "      <td>['Why', 'No', 'Support', 'for', 'Our', 'Boys',...</td>\n",
       "      <td>['whi', 'no', 'support', 'for', 'our', 'boy', ...</td>\n",
       "      <td>['whi', 'no', 'support', 'for', 'our', 'boy', ...</td>\n",
       "      <td>9</td>\n",
       "      <td>32</td>\n",
       "      <td>['Why No Support for Our Boys in Afcon?', ':(']</td>\n",
       "      <td>2</td>\n",
       "      <td>3.555556</td>\n",
       "      <td>4.50</td>\n",
       "      <td>-0.3400</td>\n",
       "    </tr>\n",
       "    <tr>\n",
       "      <th>2</th>\n",
       "      <td>1</td>\n",
       "      <td>Most valuable left wingers in the world. Opini...</td>\n",
       "      <td>thisisblank Most valuable left wingers in the ...</td>\n",
       "      <td>['Most', 'valuable', 'left', 'wingers', 'in', ...</td>\n",
       "      <td>['Most', 'valuable', 'left', 'winger', 'in', '...</td>\n",
       "      <td>['most', 'valuabl', 'left', 'winger', 'in', 't...</td>\n",
       "      <td>['most', 'valuabl', 'left', 'winger', 'in', 't...</td>\n",
       "      <td>8</td>\n",
       "      <td>43</td>\n",
       "      <td>['Most valuable left wingers in the world.', '...</td>\n",
       "      <td>2</td>\n",
       "      <td>5.375000</td>\n",
       "      <td>4.00</td>\n",
       "      <td>0.5256</td>\n",
       "    </tr>\n",
       "    <tr>\n",
       "      <th>3</th>\n",
       "      <td>1</td>\n",
       "      <td>We have some really good dancers on this team.</td>\n",
       "      <td>thisisblank We have some really good dancers o...</td>\n",
       "      <td>['We', 'have', 'some', 'really', 'good', 'danc...</td>\n",
       "      <td>['We', 'have', 'some', 'really', 'good', 'danc...</td>\n",
       "      <td>['we', 'have', 'some', 'realli', 'good', 'danc...</td>\n",
       "      <td>['we', 'have', 'some', 'realli', 'good', 'danc...</td>\n",
       "      <td>9</td>\n",
       "      <td>38</td>\n",
       "      <td>['We have some really good dancers on this tea...</td>\n",
       "      <td>1</td>\n",
       "      <td>4.222222</td>\n",
       "      <td>9.00</td>\n",
       "      <td>0.4927</td>\n",
       "    </tr>\n",
       "    <tr>\n",
       "      <th>4</th>\n",
       "      <td>1</td>\n",
       "      <td>[Fabrizio Romano] Liverpool and Porto sources ...</td>\n",
       "      <td>thisisblank [Fabrizio Romano] Liverpool and Po...</td>\n",
       "      <td>['[Fabrizio', 'Romano]', 'Liverpool', 'and', '...</td>\n",
       "      <td>['[Fabrizio', 'Romano]', 'Liverpool', 'and', '...</td>\n",
       "      <td>['[fabrizio', 'romano]', 'liverpool', 'and', '...</td>\n",
       "      <td>['[fabrizio', 'romano]', 'liverpool', 'and', '...</td>\n",
       "      <td>47</td>\n",
       "      <td>244</td>\n",
       "      <td>['[Fabrizio Romano] Liverpool and Porto source...</td>\n",
       "      <td>4</td>\n",
       "      <td>5.191489</td>\n",
       "      <td>11.75</td>\n",
       "      <td>-0.6249</td>\n",
       "    </tr>\n",
       "  </tbody>\n",
       "</table>\n",
       "</div>"
      ],
      "text/plain": [
       "   subreddit                                              title  \\\n",
       "0          1  Looked up Luis Díaz's stats and Wiki..... Look...   \n",
       "1          1           Why No Support for Our Boys in Afcon? :(   \n",
       "2          1  Most valuable left wingers in the world. Opini...   \n",
       "3          1     We have some really good dancers on this team.   \n",
       "4          1  [Fabrizio Romano] Liverpool and Porto sources ...   \n",
       "\n",
       "                                                 all  \\\n",
       "0  thisisblank Looked up Luis Díaz's stats and Wi...   \n",
       "1  [removed]Why No Support for Our Boys in Afcon? :(   \n",
       "2  thisisblank Most valuable left wingers in the ...   \n",
       "3  thisisblank We have some really good dancers o...   \n",
       "4  thisisblank [Fabrizio Romano] Liverpool and Po...   \n",
       "\n",
       "                                              tokens  \\\n",
       "0  ['Looked', 'up', 'Luis', \"Díaz's\", 'stats', 'a...   \n",
       "1  ['Why', 'No', 'Support', 'for', 'Our', 'Boys',...   \n",
       "2  ['Most', 'valuable', 'left', 'wingers', 'in', ...   \n",
       "3  ['We', 'have', 'some', 'really', 'good', 'danc...   \n",
       "4  ['[Fabrizio', 'Romano]', 'Liverpool', 'and', '...   \n",
       "\n",
       "                                                lems  \\\n",
       "0  ['Looked', 'up', 'Luis', \"Díaz's\", 'stats', 'a...   \n",
       "1  ['Why', 'No', 'Support', 'for', 'Our', 'Boys',...   \n",
       "2  ['Most', 'valuable', 'left', 'winger', 'in', '...   \n",
       "3  ['We', 'have', 'some', 'really', 'good', 'danc...   \n",
       "4  ['[Fabrizio', 'Romano]', 'Liverpool', 'and', '...   \n",
       "\n",
       "                                        porter_stems  \\\n",
       "0  ['look', 'up', 'lui', \"díaz'\", 'stat', 'and', ...   \n",
       "1  ['whi', 'no', 'support', 'for', 'our', 'boy', ...   \n",
       "2  ['most', 'valuabl', 'left', 'winger', 'in', 't...   \n",
       "3  ['we', 'have', 'some', 'realli', 'good', 'danc...   \n",
       "4  ['[fabrizio', 'romano]', 'liverpool', 'and', '...   \n",
       "\n",
       "                                      snowball_stems  word_count  \\\n",
       "0  ['look', 'up', 'lui', 'díaz', 'stat', 'and', '...          22   \n",
       "1  ['whi', 'no', 'support', 'for', 'our', 'boy', ...           9   \n",
       "2  ['most', 'valuabl', 'left', 'winger', 'in', 't...           8   \n",
       "3  ['we', 'have', 'some', 'realli', 'good', 'danc...           9   \n",
       "4  ['[fabrizio', 'romano]', 'liverpool', 'and', '...          47   \n",
       "\n",
       "   title_char_count                                          sentences  \\\n",
       "0               101  [\"Looked up Luis Díaz's stats and Wiki..... Lo...   \n",
       "1                32    ['Why No Support for Our Boys in Afcon?', ':(']   \n",
       "2                43  ['Most valuable left wingers in the world.', '...   \n",
       "3                38  ['We have some really good dancers on this tea...   \n",
       "4               244  ['[Fabrizio Romano] Liverpool and Porto source...   \n",
       "\n",
       "   sentence_count  avg_word_length  avg_sentence_length  sentiment  \n",
       "0               2         4.590909                11.00     0.0000  \n",
       "1               2         3.555556                 4.50    -0.3400  \n",
       "2               2         5.375000                 4.00     0.5256  \n",
       "3               1         4.222222                 9.00     0.4927  \n",
       "4               4         5.191489                11.75    -0.6249  "
      ]
     },
     "execution_count": 392,
     "metadata": {},
     "output_type": "execute_result"
    }
   ],
   "source": [
    "submissions_original.head()"
   ]
  },
  {
   "cell_type": "code",
   "execution_count": 393,
   "id": "1798a14d",
   "metadata": {
    "scrolled": false
   },
   "outputs": [
    {
     "data": {
      "text/plain": [
       "subreddit              0\n",
       "title                  0\n",
       "all                    0\n",
       "tokens                 0\n",
       "lems                   0\n",
       "porter_stems           0\n",
       "snowball_stems         0\n",
       "word_count             0\n",
       "title_char_count       0\n",
       "sentences              0\n",
       "sentence_count         0\n",
       "avg_word_length        0\n",
       "avg_sentence_length    0\n",
       "sentiment              0\n",
       "dtype: int64"
      ]
     },
     "execution_count": 393,
     "metadata": {},
     "output_type": "execute_result"
    }
   ],
   "source": [
    "submissions_original.isnull().sum()"
   ]
  },
  {
   "cell_type": "code",
   "execution_count": 394,
   "id": "08d6335f",
   "metadata": {},
   "outputs": [
    {
     "data": {
      "text/plain": [
       "(57908, 14)"
      ]
     },
     "execution_count": 394,
     "metadata": {},
     "output_type": "execute_result"
    }
   ],
   "source": [
    "submissions_original.shape"
   ]
  },
  {
   "cell_type": "code",
   "execution_count": 395,
   "id": "66df49e5",
   "metadata": {},
   "outputs": [
    {
     "data": {
      "text/html": [
       "<div>\n",
       "<style scoped>\n",
       "    .dataframe tbody tr th:only-of-type {\n",
       "        vertical-align: middle;\n",
       "    }\n",
       "\n",
       "    .dataframe tbody tr th {\n",
       "        vertical-align: top;\n",
       "    }\n",
       "\n",
       "    .dataframe thead th {\n",
       "        text-align: right;\n",
       "    }\n",
       "</style>\n",
       "<table border=\"1\" class=\"dataframe\">\n",
       "  <thead>\n",
       "    <tr style=\"text-align: right;\">\n",
       "      <th></th>\n",
       "      <th>subreddit</th>\n",
       "      <th>title</th>\n",
       "      <th>all</th>\n",
       "      <th>tokens</th>\n",
       "      <th>lems</th>\n",
       "      <th>porter_stems</th>\n",
       "      <th>snowball_stems</th>\n",
       "      <th>word_count</th>\n",
       "      <th>title_char_count</th>\n",
       "      <th>sentences</th>\n",
       "      <th>sentence_count</th>\n",
       "      <th>avg_word_length</th>\n",
       "      <th>avg_sentence_length</th>\n",
       "      <th>sentiment</th>\n",
       "    </tr>\n",
       "  </thead>\n",
       "  <tbody>\n",
       "    <tr>\n",
       "      <th>0</th>\n",
       "      <td>1</td>\n",
       "      <td>Looked up Luis Díaz's stats and Wiki..... Look...</td>\n",
       "      <td>thisisblank Looked up Luis Díaz's stats and Wi...</td>\n",
       "      <td>['Looked', 'up', 'Luis', \"Díaz's\", 'stats', 'a...</td>\n",
       "      <td>['Looked', 'up', 'Luis', \"Díaz's\", 'stats', 'a...</td>\n",
       "      <td>['look', 'up', 'lui', \"díaz'\", 'stat', 'and', ...</td>\n",
       "      <td>['look', 'up', 'lui', 'díaz', 'stat', 'and', '...</td>\n",
       "      <td>22</td>\n",
       "      <td>101</td>\n",
       "      <td>[\"Looked up Luis Díaz's stats and Wiki..... Lo...</td>\n",
       "      <td>2</td>\n",
       "      <td>4.590909</td>\n",
       "      <td>11.00</td>\n",
       "      <td>0.0000</td>\n",
       "    </tr>\n",
       "    <tr>\n",
       "      <th>1</th>\n",
       "      <td>1</td>\n",
       "      <td>Why No Support for Our Boys in Afcon? :(</td>\n",
       "      <td>[removed]Why No Support for Our Boys in Afcon? :(</td>\n",
       "      <td>['Why', 'No', 'Support', 'for', 'Our', 'Boys',...</td>\n",
       "      <td>['Why', 'No', 'Support', 'for', 'Our', 'Boys',...</td>\n",
       "      <td>['whi', 'no', 'support', 'for', 'our', 'boy', ...</td>\n",
       "      <td>['whi', 'no', 'support', 'for', 'our', 'boy', ...</td>\n",
       "      <td>9</td>\n",
       "      <td>32</td>\n",
       "      <td>['Why No Support for Our Boys in Afcon?', ':(']</td>\n",
       "      <td>2</td>\n",
       "      <td>3.555556</td>\n",
       "      <td>4.50</td>\n",
       "      <td>-0.3400</td>\n",
       "    </tr>\n",
       "    <tr>\n",
       "      <th>2</th>\n",
       "      <td>1</td>\n",
       "      <td>Most valuable left wingers in the world. Opini...</td>\n",
       "      <td>thisisblank Most valuable left wingers in the ...</td>\n",
       "      <td>['Most', 'valuable', 'left', 'wingers', 'in', ...</td>\n",
       "      <td>['Most', 'valuable', 'left', 'winger', 'in', '...</td>\n",
       "      <td>['most', 'valuabl', 'left', 'winger', 'in', 't...</td>\n",
       "      <td>['most', 'valuabl', 'left', 'winger', 'in', 't...</td>\n",
       "      <td>8</td>\n",
       "      <td>43</td>\n",
       "      <td>['Most valuable left wingers in the world.', '...</td>\n",
       "      <td>2</td>\n",
       "      <td>5.375000</td>\n",
       "      <td>4.00</td>\n",
       "      <td>0.5256</td>\n",
       "    </tr>\n",
       "    <tr>\n",
       "      <th>3</th>\n",
       "      <td>1</td>\n",
       "      <td>We have some really good dancers on this team.</td>\n",
       "      <td>thisisblank We have some really good dancers o...</td>\n",
       "      <td>['We', 'have', 'some', 'really', 'good', 'danc...</td>\n",
       "      <td>['We', 'have', 'some', 'really', 'good', 'danc...</td>\n",
       "      <td>['we', 'have', 'some', 'realli', 'good', 'danc...</td>\n",
       "      <td>['we', 'have', 'some', 'realli', 'good', 'danc...</td>\n",
       "      <td>9</td>\n",
       "      <td>38</td>\n",
       "      <td>['We have some really good dancers on this tea...</td>\n",
       "      <td>1</td>\n",
       "      <td>4.222222</td>\n",
       "      <td>9.00</td>\n",
       "      <td>0.4927</td>\n",
       "    </tr>\n",
       "    <tr>\n",
       "      <th>4</th>\n",
       "      <td>1</td>\n",
       "      <td>[Fabrizio Romano] Liverpool and Porto sources ...</td>\n",
       "      <td>thisisblank [Fabrizio Romano] Liverpool and Po...</td>\n",
       "      <td>['[Fabrizio', 'Romano]', 'Liverpool', 'and', '...</td>\n",
       "      <td>['[Fabrizio', 'Romano]', 'Liverpool', 'and', '...</td>\n",
       "      <td>['[fabrizio', 'romano]', 'liverpool', 'and', '...</td>\n",
       "      <td>['[fabrizio', 'romano]', 'liverpool', 'and', '...</td>\n",
       "      <td>47</td>\n",
       "      <td>244</td>\n",
       "      <td>['[Fabrizio Romano] Liverpool and Porto source...</td>\n",
       "      <td>4</td>\n",
       "      <td>5.191489</td>\n",
       "      <td>11.75</td>\n",
       "      <td>-0.6249</td>\n",
       "    </tr>\n",
       "    <tr>\n",
       "      <th>...</th>\n",
       "      <td>...</td>\n",
       "      <td>...</td>\n",
       "      <td>...</td>\n",
       "      <td>...</td>\n",
       "      <td>...</td>\n",
       "      <td>...</td>\n",
       "      <td>...</td>\n",
       "      <td>...</td>\n",
       "      <td>...</td>\n",
       "      <td>...</td>\n",
       "      <td>...</td>\n",
       "      <td>...</td>\n",
       "      <td>...</td>\n",
       "      <td>...</td>\n",
       "    </tr>\n",
       "    <tr>\n",
       "      <th>57903</th>\n",
       "      <td>0</td>\n",
       "      <td>Everton Boosted as Inter Reportedly Look to Se...</td>\n",
       "      <td>thisisblank Everton Boosted as Inter Reportedl...</td>\n",
       "      <td>['Everton', 'Boosted', 'as', 'Inter', 'Reporte...</td>\n",
       "      <td>['Everton', 'Boosted', 'a', 'Inter', 'Reported...</td>\n",
       "      <td>['everton', 'boost', 'as', 'inter', 'reportedl...</td>\n",
       "      <td>['everton', 'boost', 'as', 'inter', 'report', ...</td>\n",
       "      <td>12</td>\n",
       "      <td>65</td>\n",
       "      <td>['Everton Boosted as Inter Reportedly Look to ...</td>\n",
       "      <td>1</td>\n",
       "      <td>5.416667</td>\n",
       "      <td>12.00</td>\n",
       "      <td>0.3612</td>\n",
       "    </tr>\n",
       "    <tr>\n",
       "      <th>57904</th>\n",
       "      <td>0</td>\n",
       "      <td>Everton-Chelsea rating results</td>\n",
       "      <td>I have a feeling this is going to illicit a fe...</td>\n",
       "      <td>['Everton-Chelsea', 'rating', 'results']</td>\n",
       "      <td>['Everton-Chelsea', 'rating', 'result']</td>\n",
       "      <td>['everton-chelsea', 'rate', 'result']</td>\n",
       "      <td>['everton-chelsea', 'rate', 'result']</td>\n",
       "      <td>3</td>\n",
       "      <td>28</td>\n",
       "      <td>['Everton-Chelsea rating results']</td>\n",
       "      <td>1</td>\n",
       "      <td>9.333333</td>\n",
       "      <td>3.00</td>\n",
       "      <td>0.0000</td>\n",
       "    </tr>\n",
       "    <tr>\n",
       "      <th>57905</th>\n",
       "      <td>0</td>\n",
       "      <td>I loved the picture from that Guardian article...</td>\n",
       "      <td>thisisblank I loved the picture from that Guar...</td>\n",
       "      <td>['I', 'loved', 'the', 'picture', 'from', 'that...</td>\n",
       "      <td>['I', 'loved', 'the', 'picture', 'from', 'that...</td>\n",
       "      <td>['i', 'love', 'the', 'pictur', 'from', 'that',...</td>\n",
       "      <td>['i', 'love', 'the', 'pictur', 'from', 'that',...</td>\n",
       "      <td>20</td>\n",
       "      <td>83</td>\n",
       "      <td>['I loved the picture from that Guardian artic...</td>\n",
       "      <td>1</td>\n",
       "      <td>4.150000</td>\n",
       "      <td>20.00</td>\n",
       "      <td>0.5994</td>\n",
       "    </tr>\n",
       "    <tr>\n",
       "      <th>57906</th>\n",
       "      <td>0</td>\n",
       "      <td>Blues Brothers: Phil Jagielka v Leighton Baines</td>\n",
       "      <td>thisisblank Blues Brothers: Phil Jagielka v Le...</td>\n",
       "      <td>['Blues', 'Brothers:', 'Phil', 'Jagielka', 'v'...</td>\n",
       "      <td>['Blues', 'Brothers:', 'Phil', 'Jagielka', 'v'...</td>\n",
       "      <td>['blue', 'brothers:', 'phil', 'jagielka', 'v',...</td>\n",
       "      <td>['blue', 'brothers:', 'phil', 'jagielka', 'v',...</td>\n",
       "      <td>7</td>\n",
       "      <td>41</td>\n",
       "      <td>['Blues Brothers: Phil Jagielka v Leighton Bai...</td>\n",
       "      <td>1</td>\n",
       "      <td>5.857143</td>\n",
       "      <td>7.00</td>\n",
       "      <td>0.0000</td>\n",
       "    </tr>\n",
       "    <tr>\n",
       "      <th>57907</th>\n",
       "      <td>0</td>\n",
       "      <td>Everton to reward defender Brendan Galloway wi...</td>\n",
       "      <td>thisisblank Everton to reward defender Brendan...</td>\n",
       "      <td>['Everton', 'to', 'reward', 'defender', 'Brend...</td>\n",
       "      <td>['Everton', 'to', 'reward', 'defender', 'Brend...</td>\n",
       "      <td>['everton', 'to', 'reward', 'defend', 'brendan...</td>\n",
       "      <td>['everton', 'to', 'reward', 'defend', 'brendan...</td>\n",
       "      <td>9</td>\n",
       "      <td>53</td>\n",
       "      <td>['Everton to reward defender Brendan Galloway ...</td>\n",
       "      <td>1</td>\n",
       "      <td>5.888889</td>\n",
       "      <td>9.00</td>\n",
       "      <td>0.6249</td>\n",
       "    </tr>\n",
       "  </tbody>\n",
       "</table>\n",
       "<p>57908 rows × 14 columns</p>\n",
       "</div>"
      ],
      "text/plain": [
       "       subreddit                                              title  \\\n",
       "0              1  Looked up Luis Díaz's stats and Wiki..... Look...   \n",
       "1              1           Why No Support for Our Boys in Afcon? :(   \n",
       "2              1  Most valuable left wingers in the world. Opini...   \n",
       "3              1     We have some really good dancers on this team.   \n",
       "4              1  [Fabrizio Romano] Liverpool and Porto sources ...   \n",
       "...          ...                                                ...   \n",
       "57903          0  Everton Boosted as Inter Reportedly Look to Se...   \n",
       "57904          0                     Everton-Chelsea rating results   \n",
       "57905          0  I loved the picture from that Guardian article...   \n",
       "57906          0    Blues Brothers: Phil Jagielka v Leighton Baines   \n",
       "57907          0  Everton to reward defender Brendan Galloway wi...   \n",
       "\n",
       "                                                     all  \\\n",
       "0      thisisblank Looked up Luis Díaz's stats and Wi...   \n",
       "1      [removed]Why No Support for Our Boys in Afcon? :(   \n",
       "2      thisisblank Most valuable left wingers in the ...   \n",
       "3      thisisblank We have some really good dancers o...   \n",
       "4      thisisblank [Fabrizio Romano] Liverpool and Po...   \n",
       "...                                                  ...   \n",
       "57903  thisisblank Everton Boosted as Inter Reportedl...   \n",
       "57904  I have a feeling this is going to illicit a fe...   \n",
       "57905  thisisblank I loved the picture from that Guar...   \n",
       "57906  thisisblank Blues Brothers: Phil Jagielka v Le...   \n",
       "57907  thisisblank Everton to reward defender Brendan...   \n",
       "\n",
       "                                                  tokens  \\\n",
       "0      ['Looked', 'up', 'Luis', \"Díaz's\", 'stats', 'a...   \n",
       "1      ['Why', 'No', 'Support', 'for', 'Our', 'Boys',...   \n",
       "2      ['Most', 'valuable', 'left', 'wingers', 'in', ...   \n",
       "3      ['We', 'have', 'some', 'really', 'good', 'danc...   \n",
       "4      ['[Fabrizio', 'Romano]', 'Liverpool', 'and', '...   \n",
       "...                                                  ...   \n",
       "57903  ['Everton', 'Boosted', 'as', 'Inter', 'Reporte...   \n",
       "57904           ['Everton-Chelsea', 'rating', 'results']   \n",
       "57905  ['I', 'loved', 'the', 'picture', 'from', 'that...   \n",
       "57906  ['Blues', 'Brothers:', 'Phil', 'Jagielka', 'v'...   \n",
       "57907  ['Everton', 'to', 'reward', 'defender', 'Brend...   \n",
       "\n",
       "                                                    lems  \\\n",
       "0      ['Looked', 'up', 'Luis', \"Díaz's\", 'stats', 'a...   \n",
       "1      ['Why', 'No', 'Support', 'for', 'Our', 'Boys',...   \n",
       "2      ['Most', 'valuable', 'left', 'winger', 'in', '...   \n",
       "3      ['We', 'have', 'some', 'really', 'good', 'danc...   \n",
       "4      ['[Fabrizio', 'Romano]', 'Liverpool', 'and', '...   \n",
       "...                                                  ...   \n",
       "57903  ['Everton', 'Boosted', 'a', 'Inter', 'Reported...   \n",
       "57904            ['Everton-Chelsea', 'rating', 'result']   \n",
       "57905  ['I', 'loved', 'the', 'picture', 'from', 'that...   \n",
       "57906  ['Blues', 'Brothers:', 'Phil', 'Jagielka', 'v'...   \n",
       "57907  ['Everton', 'to', 'reward', 'defender', 'Brend...   \n",
       "\n",
       "                                            porter_stems  \\\n",
       "0      ['look', 'up', 'lui', \"díaz'\", 'stat', 'and', ...   \n",
       "1      ['whi', 'no', 'support', 'for', 'our', 'boy', ...   \n",
       "2      ['most', 'valuabl', 'left', 'winger', 'in', 't...   \n",
       "3      ['we', 'have', 'some', 'realli', 'good', 'danc...   \n",
       "4      ['[fabrizio', 'romano]', 'liverpool', 'and', '...   \n",
       "...                                                  ...   \n",
       "57903  ['everton', 'boost', 'as', 'inter', 'reportedl...   \n",
       "57904              ['everton-chelsea', 'rate', 'result']   \n",
       "57905  ['i', 'love', 'the', 'pictur', 'from', 'that',...   \n",
       "57906  ['blue', 'brothers:', 'phil', 'jagielka', 'v',...   \n",
       "57907  ['everton', 'to', 'reward', 'defend', 'brendan...   \n",
       "\n",
       "                                          snowball_stems  word_count  \\\n",
       "0      ['look', 'up', 'lui', 'díaz', 'stat', 'and', '...          22   \n",
       "1      ['whi', 'no', 'support', 'for', 'our', 'boy', ...           9   \n",
       "2      ['most', 'valuabl', 'left', 'winger', 'in', 't...           8   \n",
       "3      ['we', 'have', 'some', 'realli', 'good', 'danc...           9   \n",
       "4      ['[fabrizio', 'romano]', 'liverpool', 'and', '...          47   \n",
       "...                                                  ...         ...   \n",
       "57903  ['everton', 'boost', 'as', 'inter', 'report', ...          12   \n",
       "57904              ['everton-chelsea', 'rate', 'result']           3   \n",
       "57905  ['i', 'love', 'the', 'pictur', 'from', 'that',...          20   \n",
       "57906  ['blue', 'brothers:', 'phil', 'jagielka', 'v',...           7   \n",
       "57907  ['everton', 'to', 'reward', 'defend', 'brendan...           9   \n",
       "\n",
       "       title_char_count                                          sentences  \\\n",
       "0                   101  [\"Looked up Luis Díaz's stats and Wiki..... Lo...   \n",
       "1                    32    ['Why No Support for Our Boys in Afcon?', ':(']   \n",
       "2                    43  ['Most valuable left wingers in the world.', '...   \n",
       "3                    38  ['We have some really good dancers on this tea...   \n",
       "4                   244  ['[Fabrizio Romano] Liverpool and Porto source...   \n",
       "...                 ...                                                ...   \n",
       "57903                65  ['Everton Boosted as Inter Reportedly Look to ...   \n",
       "57904                28                 ['Everton-Chelsea rating results']   \n",
       "57905                83  ['I loved the picture from that Guardian artic...   \n",
       "57906                41  ['Blues Brothers: Phil Jagielka v Leighton Bai...   \n",
       "57907                53  ['Everton to reward defender Brendan Galloway ...   \n",
       "\n",
       "       sentence_count  avg_word_length  avg_sentence_length  sentiment  \n",
       "0                   2         4.590909                11.00     0.0000  \n",
       "1                   2         3.555556                 4.50    -0.3400  \n",
       "2                   2         5.375000                 4.00     0.5256  \n",
       "3                   1         4.222222                 9.00     0.4927  \n",
       "4                   4         5.191489                11.75    -0.6249  \n",
       "...               ...              ...                  ...        ...  \n",
       "57903               1         5.416667                12.00     0.3612  \n",
       "57904               1         9.333333                 3.00     0.0000  \n",
       "57905               1         4.150000                20.00     0.5994  \n",
       "57906               1         5.857143                 7.00     0.0000  \n",
       "57907               1         5.888889                 9.00     0.6249  \n",
       "\n",
       "[57908 rows x 14 columns]"
      ]
     },
     "execution_count": 395,
     "metadata": {},
     "output_type": "execute_result"
    }
   ],
   "source": [
    "submissions_original.dropna()"
   ]
  },
  {
   "cell_type": "code",
   "execution_count": 397,
   "id": "bff8f46f",
   "metadata": {},
   "outputs": [],
   "source": [
    "get_text_data = FunctionTransformer(lambda x: x['all'], validate = False)\n",
    "get_numeric_data = FunctionTransformer(lambda x: x[['sentiment']], validate = False)"
   ]
  },
  {
   "cell_type": "code",
   "execution_count": 399,
   "id": "b5305d17",
   "metadata": {},
   "outputs": [],
   "source": [
    "X = submissions_original[['all', 'sentiment']]\n",
    "y = submissions_original['subreddit']"
   ]
  },
  {
   "cell_type": "code",
   "execution_count": 400,
   "id": "38570a06",
   "metadata": {},
   "outputs": [
    {
     "data": {
      "text/plain": [
       "1    0.500967\n",
       "0    0.499033\n",
       "Name: subreddit, dtype: float64"
      ]
     },
     "execution_count": 400,
     "metadata": {},
     "output_type": "execute_result"
    }
   ],
   "source": [
    "y.value_counts(normalize=True)"
   ]
  },
  {
   "cell_type": "code",
   "execution_count": 401,
   "id": "e2d5dfdb",
   "metadata": {},
   "outputs": [
    {
     "data": {
      "text/plain": [
       "1    29010\n",
       "0    28898\n",
       "Name: subreddit, dtype: int64"
      ]
     },
     "execution_count": 401,
     "metadata": {},
     "output_type": "execute_result"
    }
   ],
   "source": [
    "y.value_counts()"
   ]
  },
  {
   "cell_type": "code",
   "execution_count": 402,
   "id": "3065b25c",
   "metadata": {},
   "outputs": [],
   "source": [
    "X_train, X_test, y_train, y_test = train_test_split(X,\n",
    "                                                    y,\n",
    "                                                    test_size=0.20,\n",
    "                                                    stratify=y,#stratify = y b/c the data = imbalanced\n",
    "                                                    random_state=42)"
   ]
  },
  {
   "cell_type": "code",
   "execution_count": 403,
   "id": "3be4f739",
   "metadata": {},
   "outputs": [
    {
     "name": "stderr",
     "output_type": "stream",
     "text": [
      "/Applications/anaconda3/lib/python3.8/site-packages/sklearn/linear_model/_logistic.py:763: ConvergenceWarning: lbfgs failed to converge (status=1):\n",
      "STOP: TOTAL NO. of ITERATIONS REACHED LIMIT.\n",
      "\n",
      "Increase the number of iterations (max_iter) or scale the data as shown in:\n",
      "    https://scikit-learn.org/stable/modules/preprocessing.html\n",
      "Please also refer to the documentation for alternative solver options:\n",
      "    https://scikit-learn.org/stable/modules/linear_model.html#logistic-regression\n",
      "  n_iter_i = _check_optimize_result(\n",
      "/Applications/anaconda3/lib/python3.8/site-packages/sklearn/linear_model/_logistic.py:763: ConvergenceWarning: lbfgs failed to converge (status=1):\n",
      "STOP: TOTAL NO. of ITERATIONS REACHED LIMIT.\n",
      "\n",
      "Increase the number of iterations (max_iter) or scale the data as shown in:\n",
      "    https://scikit-learn.org/stable/modules/preprocessing.html\n",
      "Please also refer to the documentation for alternative solver options:\n",
      "    https://scikit-learn.org/stable/modules/linear_model.html#logistic-regression\n",
      "  n_iter_i = _check_optimize_result(\n",
      "/Applications/anaconda3/lib/python3.8/site-packages/sklearn/linear_model/_logistic.py:763: ConvergenceWarning: lbfgs failed to converge (status=1):\n",
      "STOP: TOTAL NO. of ITERATIONS REACHED LIMIT.\n",
      "\n",
      "Increase the number of iterations (max_iter) or scale the data as shown in:\n",
      "    https://scikit-learn.org/stable/modules/preprocessing.html\n",
      "Please also refer to the documentation for alternative solver options:\n",
      "    https://scikit-learn.org/stable/modules/linear_model.html#logistic-regression\n",
      "  n_iter_i = _check_optimize_result(\n",
      "/Applications/anaconda3/lib/python3.8/site-packages/sklearn/linear_model/_logistic.py:763: ConvergenceWarning: lbfgs failed to converge (status=1):\n",
      "STOP: TOTAL NO. of ITERATIONS REACHED LIMIT.\n",
      "\n",
      "Increase the number of iterations (max_iter) or scale the data as shown in:\n",
      "    https://scikit-learn.org/stable/modules/preprocessing.html\n",
      "Please also refer to the documentation for alternative solver options:\n",
      "    https://scikit-learn.org/stable/modules/linear_model.html#logistic-regression\n",
      "  n_iter_i = _check_optimize_result(\n",
      "/Applications/anaconda3/lib/python3.8/site-packages/sklearn/linear_model/_logistic.py:763: ConvergenceWarning: lbfgs failed to converge (status=1):\n",
      "STOP: TOTAL NO. of ITERATIONS REACHED LIMIT.\n",
      "\n",
      "Increase the number of iterations (max_iter) or scale the data as shown in:\n",
      "    https://scikit-learn.org/stable/modules/preprocessing.html\n",
      "Please also refer to the documentation for alternative solver options:\n",
      "    https://scikit-learn.org/stable/modules/linear_model.html#logistic-regression\n",
      "  n_iter_i = _check_optimize_result(\n"
     ]
    },
    {
     "data": {
      "text/plain": [
       "0.9148426369641238"
      ]
     },
     "execution_count": 403,
     "metadata": {},
     "output_type": "execute_result"
    }
   ],
   "source": [
    "pipe = Pipeline([\n",
    "    ('features', FeatureUnion([\n",
    "            ('numeric_features', Pipeline([\n",
    "                ('selector', get_numeric_data),\n",
    "                ('ss', StandardScaler())\n",
    "            ])),\n",
    "            ('text_features', Pipeline([\n",
    "                ('selector', get_text_data),\n",
    "                ('tvec', TfidfVectorizer())\n",
    "            ]))\n",
    "    ])),\n",
    "    ('logreg', LogisticRegression())\n",
    "])\n",
    "\n",
    "params = {\n",
    "            'features__text_features__tvec__stop_words' : ['english'],\n",
    "            'features__text_features__tvec__max_features' : [12_500],\n",
    "            'features__text_features__tvec__ngram_range' : [(1,2)],\n",
    "            'logreg__C' : [0.7]\n",
    "}\n",
    "\n",
    "gs = GridSearchCV(pipe, params, cv=5)\n",
    "\n",
    "gs.fit(X_train, y_train)\n",
    "gs.score(X_train, y_train)"
   ]
  },
  {
   "cell_type": "code",
   "execution_count": 404,
   "id": "f38434f0",
   "metadata": {},
   "outputs": [
    {
     "data": {
      "text/plain": [
       "0.8796408219651183"
      ]
     },
     "execution_count": 404,
     "metadata": {},
     "output_type": "execute_result"
    }
   ],
   "source": [
    "gs.score(X_test, y_test)"
   ]
  },
  {
   "cell_type": "code",
   "execution_count": 405,
   "id": "e1d50f2f",
   "metadata": {
    "scrolled": true
   },
   "outputs": [
    {
     "data": {
      "text/plain": [
       "Pipeline(steps=[('features',\n",
       "                 FeatureUnion(transformer_list=[('numeric_features',\n",
       "                                                 Pipeline(steps=[('selector',\n",
       "                                                                  FunctionTransformer(func=<function <lambda> at 0x7fb5a0de5940>)),\n",
       "                                                                 ('ss',\n",
       "                                                                  StandardScaler())])),\n",
       "                                                ('text_features',\n",
       "                                                 Pipeline(steps=[('selector',\n",
       "                                                                  FunctionTransformer(func=<function <lambda> at 0x7fb5a0de5d30>)),\n",
       "                                                                 ('tvec',\n",
       "                                                                  TfidfVectorizer(max_features=12500,\n",
       "                                                                                  ngram_range=(1,\n",
       "                                                                                               2),\n",
       "                                                                                  stop_words='english'))]))])),\n",
       "                ('logreg', LogisticRegression(C=0.7))])"
      ]
     },
     "execution_count": 405,
     "metadata": {},
     "output_type": "execute_result"
    }
   ],
   "source": [
    "gs.best_estimator_"
   ]
  },
  {
   "cell_type": "code",
   "execution_count": 406,
   "id": "c57c23fa",
   "metadata": {},
   "outputs": [
    {
     "data": {
      "text/plain": [
       "0.9148426369641238"
      ]
     },
     "execution_count": 406,
     "metadata": {},
     "output_type": "execute_result"
    }
   ],
   "source": [
    "gs.score(X_train, y_train)"
   ]
  },
  {
   "cell_type": "code",
   "execution_count": 407,
   "id": "e2caa912",
   "metadata": {},
   "outputs": [
    {
     "data": {
      "text/plain": [
       "0.8796408219651183"
      ]
     },
     "execution_count": 407,
     "metadata": {},
     "output_type": "execute_result"
    }
   ],
   "source": [
    "gs.score(X_test, y_test)"
   ]
  },
  {
   "cell_type": "code",
   "execution_count": 409,
   "id": "9cbb5c7f",
   "metadata": {},
   "outputs": [
    {
     "name": "stdout",
     "output_type": "stream",
     "text": [
      "Accuracy Score: 0.8796408219651183\n"
     ]
    },
    {
     "data": {
      "text/html": [
       "<div>\n",
       "<style scoped>\n",
       "    .dataframe tbody tr th:only-of-type {\n",
       "        vertical-align: middle;\n",
       "    }\n",
       "\n",
       "    .dataframe tbody tr th {\n",
       "        vertical-align: top;\n",
       "    }\n",
       "\n",
       "    .dataframe thead th {\n",
       "        text-align: right;\n",
       "    }\n",
       "</style>\n",
       "<table border=\"1\" class=\"dataframe\">\n",
       "  <thead>\n",
       "    <tr style=\"text-align: right;\">\n",
       "      <th></th>\n",
       "      <th>Predicted Liverpool</th>\n",
       "      <th>Predicted Everton</th>\n",
       "    </tr>\n",
       "  </thead>\n",
       "  <tbody>\n",
       "    <tr>\n",
       "      <th>Actual Liverpool</th>\n",
       "      <td>4993</td>\n",
       "      <td>787</td>\n",
       "    </tr>\n",
       "    <tr>\n",
       "      <th>Actual Everton</th>\n",
       "      <td>607</td>\n",
       "      <td>5195</td>\n",
       "    </tr>\n",
       "  </tbody>\n",
       "</table>\n",
       "</div>"
      ],
      "text/plain": [
       "                  Predicted Liverpool  Predicted Everton\n",
       "Actual Liverpool                 4993                787\n",
       "Actual Everton                    607               5195"
      ]
     },
     "execution_count": 409,
     "metadata": {},
     "output_type": "execute_result"
    }
   ],
   "source": [
    "def conmat(y_test, preds, classes):\n",
    "\n",
    "    conmat = confusion_matrix(y_test, preds)\n",
    "    print(f'Accuracy Score: {accuracy_score(y_test, preds)}')\n",
    "    return pd.DataFrame(conmat, columns=['Predicted ' +class_ for class_ in classes], \\\n",
    "                index=['Actual '+ class_ for class_ in classes])\n",
    "\n",
    "preds = gs.best_estimator_.predict(X_test)\n",
    "\n",
    "conmat(y_test, preds, ['Liverpool', 'Everton'])"
   ]
  },
  {
   "cell_type": "code",
   "execution_count": 410,
   "id": "b8879b99",
   "metadata": {},
   "outputs": [],
   "source": [
    "# Get predictions\n",
    "preds = gs.predict(X_test)\n",
    "# Save confusion matrix values\n",
    "tn, fp, fn, tp = confusion_matrix(y_test, preds).ravel()"
   ]
  },
  {
   "cell_type": "code",
   "execution_count": 427,
   "id": "06bce907",
   "metadata": {},
   "outputs": [
    {
     "data": {
      "image/png": "[encoded data removed]",
      "text/plain": [
       "<Figure size 432x288 with 2 Axes>"
      ]
     },
     "metadata": {
      "image/png": {
       "height": 261,
       "width": 318
      },
      "needs_background": "light"
     },
     "output_type": "display_data"
    }
   ],
   "source": [
    "# View confusion matrix in seaborn\n",
    "plot_confusion_matrix(gs, X_test,y_test,cmap='Oranges',values_format='d')"
   ]
  },
  {
   "cell_type": "code",
   "execution_count": 412,
   "id": "b7f376b0",
   "metadata": {},
   "outputs": [
    {
     "name": "stdout",
     "output_type": "stream",
     "text": [
      "Recall: 0.9\n",
      "Precision: 0.87\n",
      "Specificity: 0.86\n",
      "F1_Score: 0.88\n"
     ]
    }
   ],
   "source": [
    "#Recall Rate or Sensitivity\n",
    "#Percentage of true positives gotten correct\n",
    "Recall = tp/(tp + fn)\n",
    "print(f'Recall: {round(Recall,2)}')\n",
    "\n",
    "#Precision\n",
    "#Poportion of correct that are actually correct\n",
    "precision = tp / (tp+fp)\n",
    "print(f'Precision: {round(precision,2)}')\n",
    "\n",
    " # Calculate the specificity TRUE NEG RATE\n",
    "#percentage of true negatives gotten correct\n",
    "specificity = tn/ (tn+fp)\n",
    "print(f'Specificity: {round(specificity,2)}')\n",
    "\n",
    "#the mean of precision and recall.\n",
    "#mean of proportion that are predicted actually positive correctly and actually negative correctly\n",
    "f1_score = (2*precision*Recall)/ (precision + Recall)\n",
    "print(f'F1_Score: {round(f1_score,2)}')"
   ]
  },
  {
   "cell_type": "code",
   "execution_count": 413,
   "id": "464e9960",
   "metadata": {},
   "outputs": [],
   "source": [
    "# Instantiate the transformer.\n",
    "tvec = TfidfVectorizer(stop_words='english')\n",
    "\n",
    "# convert training data to dataframe\n",
    "X_train_df = pd.DataFrame(tvec.fit_transform(X_train['all']).todense(), \n",
    "                          columns=tvec.get_feature_names())"
   ]
  },
  {
   "cell_type": "code",
   "execution_count": 414,
   "id": "31c65323",
   "metadata": {},
   "outputs": [
    {
     "data": {
      "image/png": "[encoded data removed]",
      "text/plain": [
       "<Figure size 432x288 with 1 Axes>"
      ]
     },
     "metadata": {
      "image/png": {
       "height": 269,
       "width": 409
      },
      "needs_background": "light"
     },
     "output_type": "display_data"
    },
    {
     "data": {
      "text/plain": [
       "<Figure size 720x3600 with 0 Axes>"
      ]
     },
     "metadata": {},
     "output_type": "display_data"
    }
   ],
   "source": [
    "X_train_df.sum().sort_values(ascending=False).head(10).plot(kind='barh');\n",
    "\n",
    "plt.title(f'Top 10 Words by Count', fontsize=20)\n",
    "plt.figure(figsize=(10,50));"
   ]
  },
  {
   "cell_type": "code",
   "execution_count": 415,
   "id": "94616ceb",
   "metadata": {},
   "outputs": [
    {
     "data": {
      "text/plain": [
       "thisisblank    3047.849546\n",
       "everton        1261.286764\n",
       "liverpool       990.668252\n",
       "removed         779.132309\n",
       "league          584.239532\n",
       "match           566.247988\n",
       "vs              551.603682\n",
       "season          546.149857\n",
       "deleted         499.044749\n",
       "game            466.167874\n",
       "dtype: float64"
      ]
     },
     "execution_count": 415,
     "metadata": {},
     "output_type": "execute_result"
    }
   ],
   "source": [
    "X_train_df.sum().sort_values(ascending=False).head(10)"
   ]
  },
  {
   "cell_type": "code",
   "execution_count": 416,
   "id": "d32f292c",
   "metadata": {
    "scrolled": false
   },
   "outputs": [
    {
     "data": {
      "image/png": "[encoded data removed]",
      "text/plain": [
       "<Figure size 432x288 with 1 Axes>"
      ]
     },
     "metadata": {
      "image/png": {
       "height": 269,
       "width": 409
      },
      "needs_background": "light"
     },
     "output_type": "display_data"
    },
    {
     "data": {
      "text/plain": [
       "<Figure size 1440x1440 with 0 Axes>"
      ]
     },
     "metadata": {},
     "output_type": "display_data"
    }
   ],
   "source": [
    "from matplotlib import pyplot as plt\n",
    "\n",
    "X_train_df.sum().sort_values(ascending=False).head(10).plot(kind='barh');\n",
    "\n",
    "plt.title(f'Top 10 Words by Count', fontsize=20)\n",
    "plt.figure(figsize=(20,20));"
   ]
  },
  {
   "cell_type": "code",
   "execution_count": 426,
   "id": "63257331",
   "metadata": {},
   "outputs": [
    {
     "data": {
      "text/plain": [
       "thisisblank    3047.849546\n",
       "everton        1261.286764\n",
       "liverpool       990.668252\n",
       "removed         779.132309\n",
       "league          584.239532\n",
       "match           566.247988\n",
       "vs              551.603682\n",
       "season          546.149857\n",
       "deleted         499.044749\n",
       "game            466.167874\n",
       "dtype: float64"
      ]
     },
     "execution_count": 426,
     "metadata": {},
     "output_type": "execute_result"
    }
   ],
   "source": [
    "X_train_df.sum().sort_values(ascending=False).head(10)"
   ]
  },
  {
   "cell_type": "code",
   "execution_count": 419,
   "id": "164e5d03",
   "metadata": {},
   "outputs": [
    {
     "data": {
      "text/html": [
       "<div>\n",
       "<style scoped>\n",
       "    .dataframe tbody tr th:only-of-type {\n",
       "        vertical-align: middle;\n",
       "    }\n",
       "\n",
       "    .dataframe tbody tr th {\n",
       "        vertical-align: top;\n",
       "    }\n",
       "\n",
       "    .dataframe thead th {\n",
       "        text-align: right;\n",
       "    }\n",
       "</style>\n",
       "<table border=\"1\" class=\"dataframe\">\n",
       "  <thead>\n",
       "    <tr style=\"text-align: right;\">\n",
       "      <th></th>\n",
       "      <th>features</th>\n",
       "      <th>coef</th>\n",
       "      <th>exp_coef</th>\n",
       "    </tr>\n",
       "  </thead>\n",
       "  <tbody>\n",
       "    <tr>\n",
       "      <th>0</th>\n",
       "      <td>sentiment</td>\n",
       "      <td>0.091363</td>\n",
       "      <td>1.095667</td>\n",
       "    </tr>\n",
       "    <tr>\n",
       "      <th>1</th>\n",
       "      <td>00</td>\n",
       "      <td>0.994364</td>\n",
       "      <td>2.703006</td>\n",
       "    </tr>\n",
       "    <tr>\n",
       "      <th>2</th>\n",
       "      <td>00 arsenal</td>\n",
       "      <td>0.076262</td>\n",
       "      <td>1.079245</td>\n",
       "    </tr>\n",
       "    <tr>\n",
       "      <th>3</th>\n",
       "      <td>00 aston</td>\n",
       "      <td>0.030194</td>\n",
       "      <td>1.030654</td>\n",
       "    </tr>\n",
       "    <tr>\n",
       "      <th>4</th>\n",
       "      <td>00 brighton</td>\n",
       "      <td>0.064674</td>\n",
       "      <td>1.066811</td>\n",
       "    </tr>\n",
       "    <tr>\n",
       "      <th>...</th>\n",
       "      <td>...</td>\n",
       "      <td>...</td>\n",
       "      <td>...</td>\n",
       "    </tr>\n",
       "    <tr>\n",
       "      <th>12496</th>\n",
       "      <td>คาส โนออนไลน</td>\n",
       "      <td>0.723651</td>\n",
       "      <td>2.061948</td>\n",
       "    </tr>\n",
       "    <tr>\n",
       "      <th>12497</th>\n",
       "      <td>เป</td>\n",
       "      <td>1.316441</td>\n",
       "      <td>3.730121</td>\n",
       "    </tr>\n",
       "    <tr>\n",
       "      <th>12498</th>\n",
       "      <td>โนออนไลน</td>\n",
       "      <td>0.723651</td>\n",
       "      <td>2.061948</td>\n",
       "    </tr>\n",
       "    <tr>\n",
       "      <th>12499</th>\n",
       "      <td>ได</td>\n",
       "      <td>1.085376</td>\n",
       "      <td>2.960553</td>\n",
       "    </tr>\n",
       "    <tr>\n",
       "      <th>12500</th>\n",
       "      <td>ไม</td>\n",
       "      <td>1.058076</td>\n",
       "      <td>2.880823</td>\n",
       "    </tr>\n",
       "  </tbody>\n",
       "</table>\n",
       "<p>12501 rows × 3 columns</p>\n",
       "</div>"
      ],
      "text/plain": [
       "           features      coef  exp_coef\n",
       "0         sentiment  0.091363  1.095667\n",
       "1                00  0.994364  2.703006\n",
       "2        00 arsenal  0.076262  1.079245\n",
       "3          00 aston  0.030194  1.030654\n",
       "4       00 brighton  0.064674  1.066811\n",
       "...             ...       ...       ...\n",
       "12496  คาส โนออนไลน  0.723651  2.061948\n",
       "12497            เป  1.316441  3.730121\n",
       "12498      โนออนไลน  0.723651  2.061948\n",
       "12499            ได  1.085376  2.960553\n",
       "12500            ไม  1.058076  2.880823\n",
       "\n",
       "[12501 rows x 3 columns]"
      ]
     },
     "execution_count": 419,
     "metadata": {},
     "output_type": "execute_result"
    }
   ],
   "source": [
    "features = ['sentiment'] +\\\n",
    "gs.best_estimator_.named_steps['features'].transformer_list[1][1].named_steps['tvec'].get_feature_names()\n",
    "\n",
    "coefficients = gs.best_estimator_.named_steps['logreg'].coef_[0]\n",
    "\n",
    "coef_df = pd.DataFrame({'features': features, \n",
    "              'coef' : coefficients,\n",
    "              'exp_coef': [np.exp(coef) for coef in coefficients] #exponentiated coefficients\n",
    "             })\n",
    "\n",
    "coef_df"
   ]
  },
  {
   "cell_type": "code",
   "execution_count": 420,
   "id": "105fbcc7",
   "metadata": {
    "scrolled": true
   },
   "outputs": [
    {
     "data": {
      "text/html": [
       "<div>\n",
       "<style scoped>\n",
       "    .dataframe tbody tr th:only-of-type {\n",
       "        vertical-align: middle;\n",
       "    }\n",
       "\n",
       "    .dataframe tbody tr th {\n",
       "        vertical-align: top;\n",
       "    }\n",
       "\n",
       "    .dataframe thead th {\n",
       "        text-align: right;\n",
       "    }\n",
       "</style>\n",
       "<table border=\"1\" class=\"dataframe\">\n",
       "  <thead>\n",
       "    <tr style=\"text-align: right;\">\n",
       "      <th></th>\n",
       "      <th>coef</th>\n",
       "      <th>exp_coef</th>\n",
       "    </tr>\n",
       "    <tr>\n",
       "      <th>features</th>\n",
       "      <th></th>\n",
       "      <th></th>\n",
       "    </tr>\n",
       "  </thead>\n",
       "  <tbody>\n",
       "    <tr>\n",
       "      <th>liverpool</th>\n",
       "      <td>10.131430</td>\n",
       "      <td>25120.271404</td>\n",
       "    </tr>\n",
       "    <tr>\n",
       "      <th>lfc</th>\n",
       "      <td>7.998417</td>\n",
       "      <td>2976.243913</td>\n",
       "    </tr>\n",
       "    <tr>\n",
       "      <th>klopp</th>\n",
       "      <td>7.782582</td>\n",
       "      <td>2398.459040</td>\n",
       "    </tr>\n",
       "    <tr>\n",
       "      <th>salah</th>\n",
       "      <td>7.331574</td>\n",
       "      <td>1527.784551</td>\n",
       "    </tr>\n",
       "    <tr>\n",
       "      <th>anfield</th>\n",
       "      <td>5.388616</td>\n",
       "      <td>218.900180</td>\n",
       "    </tr>\n",
       "    <tr>\n",
       "      <th>trent</th>\n",
       "      <td>4.774798</td>\n",
       "      <td>118.486350</td>\n",
       "    </tr>\n",
       "    <tr>\n",
       "      <th>jota</th>\n",
       "      <td>4.721673</td>\n",
       "      <td>112.356071</td>\n",
       "    </tr>\n",
       "    <tr>\n",
       "      <th>thiago</th>\n",
       "      <td>4.677776</td>\n",
       "      <td>107.530688</td>\n",
       "    </tr>\n",
       "    <tr>\n",
       "      <th>alisson</th>\n",
       "      <td>4.549175</td>\n",
       "      <td>94.554398</td>\n",
       "    </tr>\n",
       "    <tr>\n",
       "      <th>fsg</th>\n",
       "      <td>4.398328</td>\n",
       "      <td>81.314779</td>\n",
       "    </tr>\n",
       "  </tbody>\n",
       "</table>\n",
       "</div>"
      ],
      "text/plain": [
       "                coef      exp_coef\n",
       "features                          \n",
       "liverpool  10.131430  25120.271404\n",
       "lfc         7.998417   2976.243913\n",
       "klopp       7.782582   2398.459040\n",
       "salah       7.331574   1527.784551\n",
       "anfield     5.388616    218.900180\n",
       "trent       4.774798    118.486350\n",
       "jota        4.721673    112.356071\n",
       "thiago      4.677776    107.530688\n",
       "alisson     4.549175     94.554398\n",
       "fsg         4.398328     81.314779"
      ]
     },
     "execution_count": 420,
     "metadata": {},
     "output_type": "execute_result"
    }
   ],
   "source": [
    "coef_df = coef_df.set_index('features')\n",
    "coef_df = coef_df.sort_values('exp_coef', ascending = False)\n",
    "coef_df.head(10)"
   ]
  },
  {
   "cell_type": "code",
   "execution_count": 421,
   "id": "071fd747",
   "metadata": {},
   "outputs": [
    {
     "data": {
      "text/html": [
       "<div>\n",
       "<style scoped>\n",
       "    .dataframe tbody tr th:only-of-type {\n",
       "        vertical-align: middle;\n",
       "    }\n",
       "\n",
       "    .dataframe tbody tr th {\n",
       "        vertical-align: top;\n",
       "    }\n",
       "\n",
       "    .dataframe thead th {\n",
       "        text-align: right;\n",
       "    }\n",
       "</style>\n",
       "<table border=\"1\" class=\"dataframe\">\n",
       "  <thead>\n",
       "    <tr style=\"text-align: right;\">\n",
       "      <th></th>\n",
       "      <th>coef</th>\n",
       "      <th>exp_coef</th>\n",
       "    </tr>\n",
       "    <tr>\n",
       "      <th>features</th>\n",
       "      <th></th>\n",
       "      <th></th>\n",
       "    </tr>\n",
       "  </thead>\n",
       "  <tbody>\n",
       "    <tr>\n",
       "      <th>barkley</th>\n",
       "      <td>-4.054108</td>\n",
       "      <td>1.735094e-02</td>\n",
       "    </tr>\n",
       "    <tr>\n",
       "      <th>carlo</th>\n",
       "      <td>-4.102153</td>\n",
       "      <td>1.653703e-02</td>\n",
       "    </tr>\n",
       "    <tr>\n",
       "      <th>rooney</th>\n",
       "      <td>-4.198124</td>\n",
       "      <td>1.502374e-02</td>\n",
       "    </tr>\n",
       "    <tr>\n",
       "      <th>silva</th>\n",
       "      <td>-4.504024</td>\n",
       "      <td>1.106438e-02</td>\n",
       "    </tr>\n",
       "    <tr>\n",
       "      <th>richarlison</th>\n",
       "      <td>-4.629697</td>\n",
       "      <td>9.757711e-03</td>\n",
       "    </tr>\n",
       "    <tr>\n",
       "      <th>koeman</th>\n",
       "      <td>-4.755159</td>\n",
       "      <td>8.607175e-03</td>\n",
       "    </tr>\n",
       "    <tr>\n",
       "      <th>goodison</th>\n",
       "      <td>-5.027777</td>\n",
       "      <td>6.553360e-03</td>\n",
       "    </tr>\n",
       "    <tr>\n",
       "      <th>lukaku</th>\n",
       "      <td>-5.221109</td>\n",
       "      <td>5.401336e-03</td>\n",
       "    </tr>\n",
       "    <tr>\n",
       "      <th>blues</th>\n",
       "      <td>-5.798302</td>\n",
       "      <td>3.032700e-03</td>\n",
       "    </tr>\n",
       "    <tr>\n",
       "      <th>everton</th>\n",
       "      <td>-17.707695</td>\n",
       "      <td>2.040073e-08</td>\n",
       "    </tr>\n",
       "  </tbody>\n",
       "</table>\n",
       "</div>"
      ],
      "text/plain": [
       "                  coef      exp_coef\n",
       "features                            \n",
       "barkley      -4.054108  1.735094e-02\n",
       "carlo        -4.102153  1.653703e-02\n",
       "rooney       -4.198124  1.502374e-02\n",
       "silva        -4.504024  1.106438e-02\n",
       "richarlison  -4.629697  9.757711e-03\n",
       "koeman       -4.755159  8.607175e-03\n",
       "goodison     -5.027777  6.553360e-03\n",
       "lukaku       -5.221109  5.401336e-03\n",
       "blues        -5.798302  3.032700e-03\n",
       "everton     -17.707695  2.040073e-08"
      ]
     },
     "execution_count": 421,
     "metadata": {},
     "output_type": "execute_result"
    }
   ],
   "source": [
    "coef_df = coef_df.sort_values('exp_coef', ascending = False)\n",
    "coef_df.tail(10)"
   ]
  },
  {
   "cell_type": "code",
   "execution_count": 422,
   "id": "6792b2c5",
   "metadata": {},
   "outputs": [
    {
     "data": {
      "text/plain": [
       "features\n",
       "liverpool    25120.271404\n",
       "lfc           2976.243913\n",
       "klopp         2398.459040\n",
       "salah         1527.784551\n",
       "anfield        218.900180\n",
       "trent          118.486350\n",
       "jota           112.356071\n",
       "thiago         107.530688\n",
       "alisson         94.554398\n",
       "fsg             81.314779\n",
       "ynwa            77.798931\n",
       "gerrard         73.327496\n",
       "reds            71.715405\n",
       "gini            51.717780\n",
       "mo              50.821847\n",
       "milner          46.338110\n",
       "mane            45.881460\n",
       "hendo           45.052381\n",
       "matip           39.197852\n",
       "harvey          34.018097\n",
       "fabinho         32.517189\n",
       "kabak           31.303688\n",
       "henderson       31.122159\n",
       "robbo           30.765032\n",
       "origi           29.595635\n",
       "Name: exp_coef, dtype: float64"
      ]
     },
     "execution_count": 422,
     "metadata": {},
     "output_type": "execute_result"
    }
   ],
   "source": [
    "# Top features r/Liverpool\n",
    "coef_df['exp_coef'].head(25).sort_values(ascending = False)"
   ]
  },
  {
   "cell_type": "code",
   "execution_count": 423,
   "id": "9acf0013",
   "metadata": {},
   "outputs": [
    {
     "data": {
      "text/plain": [
       "features\n",
       "barkley        1.735094e-02\n",
       "carlo          1.653703e-02\n",
       "rooney         1.502374e-02\n",
       "silva          1.106438e-02\n",
       "richarlison    9.757711e-03\n",
       "koeman         8.607175e-03\n",
       "goodison       6.553360e-03\n",
       "lukaku         5.401336e-03\n",
       "blues          3.032700e-03\n",
       "everton        2.040073e-08\n",
       "Name: exp_coef, dtype: float64"
      ]
     },
     "execution_count": 423,
     "metadata": {},
     "output_type": "execute_result"
    }
   ],
   "source": [
    "#top features r/Everton\n",
    "coef_df['exp_coef'].tail(10).sort_values(ascending = False)"
   ]
  },
  {
   "cell_type": "code",
   "execution_count": 435,
   "id": "c556c071",
   "metadata": {
    "scrolled": true
   },
   "outputs": [
    {
     "data": {
      "image/png": "[encoded data removed]",
      "text/plain": [
       "<Figure size 648x432 with 1 Axes>"
      ]
     },
     "metadata": {
      "image/png": {
       "height": 423,
       "width": 640
      },
      "needs_background": "light"
     },
     "output_type": "display_data"
    }
   ],
   "source": [
    "weights = coef_df['coef'].head(10).sort_values() #using the coef version here because of the high exp_coef value for liverpool \n",
    "labels = weights.index\n",
    "\n",
    "plt.figure(figsize=(9,6))\n",
    "plt.barh(labels, weights, color = 'Red')\n",
    "plt.yticks(fontsize=15)\n",
    "plt.xticks(fontsize=15)\n",
    "plt.xlabel('Coef', fontsize=12)\n",
    "plt.title(f'Top 10 Features r/LiverpoolFC', fontsize=20)\n",
    "plt.tight_layout()\n",
    "plt.savefig('../images/top_10_features_lfc.png');"
   ]
  },
  {
   "cell_type": "code",
   "execution_count": 433,
   "id": "ceb3e7c9",
   "metadata": {
    "scrolled": true
   },
   "outputs": [
    {
     "data": {
      "image/png": "[encoded data removed]",
      "text/plain": [
       "<Figure size 648x432 with 1 Axes>"
      ]
     },
     "metadata": {
      "image/png": {
       "height": 423,
       "width": 639
      },
      "needs_background": "light"
     },
     "output_type": "display_data"
    }
   ],
   "source": [
    "weights = coef_df['exp_coef'].tail(10).sort_values()\n",
    "labels = weights.index\n",
    "\n",
    "\n",
    "plt.figure(figsize=(9,6))\n",
    "plt.barh(labels, weights, color = 'blue')\n",
    "plt.yticks(fontsize=15)\n",
    "plt.xticks(fontsize=15)\n",
    "plt.xlabel('Exp Coef', fontsize=12)\n",
    "plt.title(f'Top 10 Features - r/Everton', fontsize=20)\n",
    "plt.tight_layout()\n",
    "plt.savefig('../images/top_10_features_everton.png');"
   ]
  }
 ],
 "metadata": {
  "kernelspec": {
   "display_name": "Python 3",
   "language": "python",
   "name": "python3"
  },
  "language_info": {
   "codemirror_mode": {
    "name": "ipython",
    "version": 3
   },
   "file_extension": ".py",
   "mimetype": "text/x-python",
   "name": "python",
   "nbconvert_exporter": "python",
   "pygments_lexer": "ipython3",
   "version": "3.8.8"
  }
 },
 "nbformat": 4,
 "nbformat_minor": 5
}
